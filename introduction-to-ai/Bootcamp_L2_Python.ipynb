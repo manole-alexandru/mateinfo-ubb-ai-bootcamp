{
  "cells": [
    {
      "cell_type": "markdown",
      "metadata": {
        "id": "z7ADfLWRsHF0"
      },
      "source": [
        "# Starting my journey in ... Python"
      ]
    },
    {
      "cell_type": "markdown",
      "metadata": {},
      "source": [
        "## Part 1 - Basics: hello worlds, datatypes, arithmetic ops."
      ]
    },
    {
      "cell_type": "markdown",
      "metadata": {},
      "source": [
        "#### 1.1. Hello world"
      ]
    },
    {
      "cell_type": "code",
      "execution_count": 14,
      "metadata": {
        "colab": {
          "base_uri": "https://localhost:8080/"
        },
        "id": "pUgVDJnALg_j",
        "outputId": "a8c630b1-1e71-454d-cd79-f444833e556c"
      },
      "outputs": [
        {
          "name": "stdout",
          "output_type": "stream",
          "text": [
            "Hello World!\n"
          ]
        }
      ],
      "source": [
        "print(\"Hello World!\")"
      ]
    },
    {
      "cell_type": "code",
      "execution_count": 15,
      "metadata": {
        "colab": {
          "base_uri": "https://localhost:8080/"
        },
        "id": "q6t9ipUNSCKQ",
        "outputId": "0f50eec6-5c93-4107-a272-ba925ca85533"
      },
      "outputs": [
        {
          "name": "stdout",
          "output_type": "stream",
          "text": [
            "25\n"
          ]
        }
      ],
      "source": [
        "print(25)"
      ]
    },
    {
      "cell_type": "code",
      "execution_count": 16,
      "metadata": {
        "id": "wmrOQf4PSCmq"
      },
      "outputs": [
        {
          "name": "stdout",
          "output_type": "stream",
          "text": [
            "25\n"
          ]
        }
      ],
      "source": [
        "x = 25\n",
        "print(x)"
      ]
    },
    {
      "cell_type": "code",
      "execution_count": 17,
      "metadata": {
        "colab": {
          "base_uri": "https://localhost:8080/"
        },
        "id": "tP2_YZhdVtpN",
        "outputId": "6bf7bcaa-055d-498b-95de-70018306006b"
      },
      "outputs": [
        {
          "data": {
            "text/plain": [
              "25"
            ]
          },
          "execution_count": 17,
          "metadata": {},
          "output_type": "execute_result"
        }
      ],
      "source": [
        "x"
      ]
    },
    {
      "cell_type": "markdown",
      "metadata": {
        "id": "D6Wk5wNzXv6n"
      },
      "source": [
        "#### 1.2. Datatypes"
      ]
    },
    {
      "cell_type": "code",
      "execution_count": 18,
      "metadata": {
        "colab": {
          "base_uri": "https://localhost:8080/"
        },
        "id": "JngoFXQwV2mE",
        "outputId": "ce8e85ce-bd92-4310-f87b-154481aaccc5"
      },
      "outputs": [
        {
          "name": "stdout",
          "output_type": "stream",
          "text": [
            "19 3.14\n"
          ]
        }
      ],
      "source": [
        "varsta = 19 # int\n",
        "pi = 3.14 # float\n",
        "\n",
        "print(varsta, pi)"
      ]
    },
    {
      "cell_type": "code",
      "execution_count": 19,
      "metadata": {
        "colab": {
          "base_uri": "https://localhost:8080/"
        },
        "id": "Uu7Y-xKjYQoa",
        "outputId": "36ba952a-ae41-44c6-de1d-8cf1aaa10cb3"
      },
      "outputs": [
        {
          "data": {
            "text/plain": [
              "int"
            ]
          },
          "execution_count": 19,
          "metadata": {},
          "output_type": "execute_result"
        }
      ],
      "source": [
        "type(varsta)"
      ]
    },
    {
      "cell_type": "code",
      "execution_count": 20,
      "metadata": {
        "colab": {
          "base_uri": "https://localhost:8080/"
        },
        "id": "YMl3QQTyYW9-",
        "outputId": "9b274028-ae36-42d0-f861-37067c46ebe3"
      },
      "outputs": [
        {
          "data": {
            "text/plain": [
              "float"
            ]
          },
          "execution_count": 20,
          "metadata": {},
          "output_type": "execute_result"
        }
      ],
      "source": [
        "type(pi)"
      ]
    },
    {
      "cell_type": "code",
      "execution_count": 21,
      "metadata": {
        "id": "Ww0xRkg_Wrf6"
      },
      "outputs": [
        {
          "data": {
            "text/plain": [
              "('Alina', 'Alina \"are\" mere', 'A')"
            ]
          },
          "execution_count": 21,
          "metadata": {},
          "output_type": "execute_result"
        }
      ],
      "source": [
        "nume = \"Alina\" # str\n",
        "propozitie = 'Alina \"are\" mere'\n",
        "initiala = \"A\"\n",
        "\n",
        "nume, propozitie, initiala"
      ]
    },
    {
      "cell_type": "code",
      "execution_count": 22,
      "metadata": {
        "colab": {
          "base_uri": "https://localhost:8080/",
          "height": 36
        },
        "id": "a73145J_Wz0_",
        "outputId": "38d797e6-4548-45e1-f3b1-302e37fd86e9"
      },
      "outputs": [
        {
          "data": {
            "text/plain": [
              "'Douazecisipatru'"
            ]
          },
          "execution_count": 22,
          "metadata": {},
          "output_type": "execute_result"
        }
      ],
      "source": [
        "varsta = \"Douazecisipatru\"\n",
        "varsta"
      ]
    },
    {
      "cell_type": "code",
      "execution_count": 23,
      "metadata": {
        "colab": {
          "base_uri": "https://localhost:8080/"
        },
        "id": "CCWjfG_LYC3W",
        "outputId": "313c31e1-9973-488a-9a1e-7c22c18d23cf"
      },
      "outputs": [
        {
          "data": {
            "text/plain": [
              "str"
            ]
          },
          "execution_count": 23,
          "metadata": {},
          "output_type": "execute_result"
        }
      ],
      "source": [
        "type(varsta)"
      ]
    },
    {
      "cell_type": "code",
      "execution_count": 24,
      "metadata": {
        "colab": {
          "base_uri": "https://localhost:8080/"
        },
        "id": "wuljhklmYyKz",
        "outputId": "db1c5875-df0f-4064-c32b-f9bfc5980e92"
      },
      "outputs": [
        {
          "data": {
            "text/plain": [
              "(True, False)"
            ]
          },
          "execution_count": 24,
          "metadata": {},
          "output_type": "execute_result"
        }
      ],
      "source": [
        "is_happy = True\n",
        "is_sad = False\n",
        "\n",
        "is_happy, is_sad"
      ]
    },
    {
      "cell_type": "code",
      "execution_count": 25,
      "metadata": {
        "colab": {
          "base_uri": "https://localhost:8080/"
        },
        "id": "xgnlz2PoY9HL",
        "outputId": "85fb39a2-4c1d-4486-f56d-5cf3ab1ae731"
      },
      "outputs": [
        {
          "data": {
            "text/plain": [
              "bool"
            ]
          },
          "execution_count": 25,
          "metadata": {},
          "output_type": "execute_result"
        }
      ],
      "source": [
        "type(is_happy)"
      ]
    },
    {
      "cell_type": "code",
      "execution_count": 26,
      "metadata": {
        "colab": {
          "base_uri": "https://localhost:8080/"
        },
        "id": "_fNaF57UZIkx",
        "outputId": "ec1ee158-6edd-4790-a7a7-a209542a6a66"
      },
      "outputs": [
        {
          "data": {
            "text/plain": [
              "212312312312312312312367567657"
            ]
          },
          "execution_count": 26,
          "metadata": {},
          "output_type": "execute_result"
        }
      ],
      "source": [
        "nr = 212312312312312312312367567657\n",
        "nr"
      ]
    },
    {
      "cell_type": "code",
      "execution_count": 27,
      "metadata": {
        "colab": {
          "base_uri": "https://localhost:8080/"
        },
        "id": "h1dIrDbyZo5M",
        "outputId": "966d3fbe-6137-49c8-d06a-f2f85c0c4876"
      },
      "outputs": [
        {
          "data": {
            "text/plain": [
              "int"
            ]
          },
          "execution_count": 27,
          "metadata": {},
          "output_type": "execute_result"
        }
      ],
      "source": [
        "type(nr)"
      ]
    },
    {
      "cell_type": "code",
      "execution_count": 28,
      "metadata": {
        "id": "Urq0_nT8Z7gX"
      },
      "outputs": [],
      "source": [
        "varsta_reala = 28.5"
      ]
    },
    {
      "cell_type": "code",
      "execution_count": 29,
      "metadata": {
        "colab": {
          "base_uri": "https://localhost:8080/"
        },
        "id": "jmLt1ACbaAYU",
        "outputId": "aaf6e247-198f-4464-f8da-ba3313be0afa"
      },
      "outputs": [
        {
          "data": {
            "text/plain": [
              "float"
            ]
          },
          "execution_count": 29,
          "metadata": {},
          "output_type": "execute_result"
        }
      ],
      "source": [
        "type(varsta_reala)"
      ]
    },
    {
      "cell_type": "code",
      "execution_count": 30,
      "metadata": {
        "colab": {
          "base_uri": "https://localhost:8080/"
        },
        "id": "ufDDmxckaCvU",
        "outputId": "7ccbb907-afe8-4d9c-e007-46a76a66c420"
      },
      "outputs": [
        {
          "data": {
            "text/plain": [
              "28"
            ]
          },
          "execution_count": 30,
          "metadata": {},
          "output_type": "execute_result"
        }
      ],
      "source": [
        "varsta_int = int(varsta_reala)\n",
        "varsta_int"
      ]
    },
    {
      "cell_type": "code",
      "execution_count": 31,
      "metadata": {
        "colab": {
          "base_uri": "https://localhost:8080/"
        },
        "id": "lEL9nNUwaIfZ",
        "outputId": "43c9b663-c439-4b27-e48e-1f4d6c616e59"
      },
      "outputs": [
        {
          "data": {
            "text/plain": [
              "int"
            ]
          },
          "execution_count": 31,
          "metadata": {},
          "output_type": "execute_result"
        }
      ],
      "source": [
        "type(varsta_int)"
      ]
    },
    {
      "cell_type": "code",
      "execution_count": 32,
      "metadata": {
        "colab": {
          "base_uri": "https://localhost:8080/",
          "height": 141
        },
        "id": "Q6H0E0uGaNjZ",
        "outputId": "7e85557d-6639-444b-dba6-8123d8dbaea5"
      },
      "outputs": [
        {
          "ename": "ValueError",
          "evalue": "invalid literal for int() with base 10: 'HEI'",
          "output_type": "error",
          "traceback": [
            "\u001b[1;31m---------------------------------------------------------------------------\u001b[0m",
            "\u001b[1;31mValueError\u001b[0m                                Traceback (most recent call last)",
            "Cell \u001b[1;32mIn[32], line 1\u001b[0m\n\u001b[1;32m----> 1\u001b[0m varsta_err \u001b[38;5;241m=\u001b[39m \u001b[38;5;28;43mint\u001b[39;49m\u001b[43m(\u001b[49m\u001b[38;5;124;43m\"\u001b[39;49m\u001b[38;5;124;43mHEI\u001b[39;49m\u001b[38;5;124;43m\"\u001b[39;49m\u001b[43m)\u001b[49m\n",
            "\u001b[1;31mValueError\u001b[0m: invalid literal for int() with base 10: 'HEI'"
          ]
        }
      ],
      "source": [
        "varsta_err = int(\"HEI\")"
      ]
    },
    {
      "cell_type": "code",
      "execution_count": 33,
      "metadata": {
        "colab": {
          "base_uri": "https://localhost:8080/"
        },
        "id": "Y5KJSv6vaSD0",
        "outputId": "6cd7a618-5262-45d1-aba2-c0712ac4bd17"
      },
      "outputs": [
        {
          "data": {
            "text/plain": [
              "25"
            ]
          },
          "execution_count": 33,
          "metadata": {},
          "output_type": "execute_result"
        }
      ],
      "source": [
        "varsta_noerr = int(\"25\")\n",
        "varsta_noerr"
      ]
    },
    {
      "cell_type": "code",
      "execution_count": 34,
      "metadata": {
        "colab": {
          "base_uri": "https://localhost:8080/"
        },
        "id": "Vvd_CxPiactQ",
        "outputId": "5caffb8d-4635-4000-dd9f-377acd5bba5d"
      },
      "outputs": [
        {
          "name": "stdout",
          "output_type": "stream",
          "text": [
            "Help on built-in function print in module builtins:\n",
            "\n",
            "print(*args, sep=' ', end='\\n', file=None, flush=False)\n",
            "    Prints the values to a stream, or to sys.stdout by default.\n",
            "    \n",
            "    sep\n",
            "      string inserted between values, default a space.\n",
            "    end\n",
            "      string appended after the last value, default a newline.\n",
            "    file\n",
            "      a file-like object (stream); defaults to the current sys.stdout.\n",
            "    flush\n",
            "      whether to forcibly flush the stream.\n",
            "\n"
          ]
        }
      ],
      "source": [
        "help(print)"
      ]
    },
    {
      "cell_type": "code",
      "execution_count": 35,
      "metadata": {
        "colab": {
          "base_uri": "https://localhost:8080/"
        },
        "id": "v3CDtbzQam_x",
        "outputId": "f8c50878-f183-4e3f-c7c7-4712855205a7"
      },
      "outputs": [
        {
          "name": "stdout",
          "output_type": "stream",
          "text": [
            "1,2,3,4\n",
            "5 6 7 8\n"
          ]
        }
      ],
      "source": [
        "print(1, 2, 3, 4, sep=',')\n",
        "print(5, 6, 7, 8)"
      ]
    },
    {
      "cell_type": "code",
      "execution_count": 36,
      "metadata": {
        "colab": {
          "base_uri": "https://localhost:8080/"
        },
        "id": "33MQNGgIdrfH",
        "outputId": "1f51d4bb-019c-49b5-dd24-ab407f1fcdbd"
      },
      "outputs": [
        {
          "name": "stdout",
          "output_type": "stream",
          "text": [
            "Help on method raw_input in module ipykernel.kernelbase:\n",
            "\n",
            "raw_input(prompt='') method of ipykernel.ipkernel.IPythonKernel instance\n",
            "    Forward raw_input to frontends\n",
            "    \n",
            "    Raises\n",
            "    ------\n",
            "    StdinNotImplementedError if active frontend doesn't support stdin.\n",
            "\n"
          ]
        }
      ],
      "source": [
        "help(input)"
      ]
    },
    {
      "cell_type": "code",
      "execution_count": 38,
      "metadata": {
        "colab": {
          "base_uri": "https://localhost:8080/"
        },
        "id": "jmXa4j74c-th",
        "outputId": "914b3d24-76a1-4fba-bc8e-1c133108f346"
      },
      "outputs": [
        {
          "data": {
            "text/plain": [
              "'20'"
            ]
          },
          "execution_count": 38,
          "metadata": {},
          "output_type": "execute_result"
        }
      ],
      "source": [
        "a = input(\"a = \")\n",
        "a"
      ]
    },
    {
      "cell_type": "code",
      "execution_count": 40,
      "metadata": {
        "colab": {
          "base_uri": "https://localhost:8080/"
        },
        "id": "MHv7E-gqdX4j",
        "outputId": "80702283-506a-4102-c10c-44bef6978d37"
      },
      "outputs": [
        {
          "data": {
            "text/plain": [
              "'25'"
            ]
          },
          "execution_count": 40,
          "metadata": {},
          "output_type": "execute_result"
        }
      ],
      "source": [
        "b = input()\n",
        "b"
      ]
    },
    {
      "cell_type": "code",
      "execution_count": 41,
      "metadata": {
        "colab": {
          "base_uri": "https://localhost:8080/",
          "height": 36
        },
        "id": "DJ0-mhOgdfEl",
        "outputId": "8d6258e3-2622-4f59-8a98-ac5417da2d78"
      },
      "outputs": [
        {
          "data": {
            "text/plain": [
              "'2025'"
            ]
          },
          "execution_count": 41,
          "metadata": {},
          "output_type": "execute_result"
        }
      ],
      "source": [
        "a + b"
      ]
    },
    {
      "cell_type": "code",
      "execution_count": 42,
      "metadata": {
        "colab": {
          "base_uri": "https://localhost:8080/"
        },
        "id": "D0H_8OcAdzN7",
        "outputId": "7b9c3304-f7a9-4f10-94f6-ba9af1f2c284"
      },
      "outputs": [
        {
          "data": {
            "text/plain": [
              "str"
            ]
          },
          "execution_count": 42,
          "metadata": {},
          "output_type": "execute_result"
        }
      ],
      "source": [
        "type(a)"
      ]
    },
    {
      "cell_type": "code",
      "execution_count": 43,
      "metadata": {
        "colab": {
          "base_uri": "https://localhost:8080/"
        },
        "id": "d1SiG2mid2WC",
        "outputId": "e7556fd7-d4c0-4607-9963-8ab7098a07c3"
      },
      "outputs": [],
      "source": [
        "c = input(\"c = \")"
      ]
    },
    {
      "cell_type": "code",
      "execution_count": 44,
      "metadata": {
        "colab": {
          "base_uri": "https://localhost:8080/"
        },
        "id": "ismpHH2td5Ug",
        "outputId": "10570662-f97a-4c6b-f755-b5937639b41d"
      },
      "outputs": [
        {
          "data": {
            "text/plain": [
              "str"
            ]
          },
          "execution_count": 44,
          "metadata": {},
          "output_type": "execute_result"
        }
      ],
      "source": [
        "type(c)"
      ]
    },
    {
      "cell_type": "code",
      "execution_count": 45,
      "metadata": {
        "colab": {
          "base_uri": "https://localhost:8080/"
        },
        "id": "qjcXknoQd93P",
        "outputId": "f10c4eee-0ba0-41f2-8a3a-6d23d28f7375"
      },
      "outputs": [
        {
          "data": {
            "text/plain": [
              "45"
            ]
          },
          "execution_count": 45,
          "metadata": {},
          "output_type": "execute_result"
        }
      ],
      "source": [
        "a = int(a)\n",
        "b = int(b)\n",
        "\n",
        "a + b"
      ]
    },
    {
      "cell_type": "code",
      "execution_count": 46,
      "metadata": {
        "colab": {
          "base_uri": "https://localhost:8080/"
        },
        "id": "aSnJki0LeSHJ",
        "outputId": "c9b32b1f-652e-4db6-9aa7-382b0f830e51"
      },
      "outputs": [
        {
          "data": {
            "text/plain": [
              "72.0"
            ]
          },
          "execution_count": 46,
          "metadata": {},
          "output_type": "execute_result"
        }
      ],
      "source": [
        "a = int(input(\"a = \"))\n",
        "b = float(input(\"b = \"))\n",
        "\n",
        "a + b"
      ]
    },
    {
      "cell_type": "code",
      "execution_count": 47,
      "metadata": {
        "colab": {
          "base_uri": "https://localhost:8080/"
        },
        "id": "5jUtWbW_ezth",
        "outputId": "4f0ba767-784a-487c-d101-4654aa3287c5"
      },
      "outputs": [
        {
          "data": {
            "text/plain": [
              "(-44.0, 812.0, 0.2413793103448276)"
            ]
          },
          "execution_count": 47,
          "metadata": {},
          "output_type": "execute_result"
        }
      ],
      "source": [
        "a - b, a * b, a / b"
      ]
    },
    {
      "cell_type": "markdown",
      "metadata": {},
      "source": [
        "#### TODO\n",
        "Write a basic calculator program that takes as input two\n",
        "numbers a and b and prints: \n",
        "- a + b, \n",
        "- a - b, \n",
        "- a * b, \n",
        "- division, \n",
        "- a % b, \n",
        "- a^b, \n",
        "- (a + b) * `radical din a`."
      ]
    },
    {
      "cell_type": "code",
      "execution_count": 48,
      "metadata": {
        "id": "Asz304PYe4UE"
      },
      "outputs": [
        {
          "data": {
            "text/plain": [
              "1"
            ]
          },
          "execution_count": 48,
          "metadata": {},
          "output_type": "execute_result"
        }
      ],
      "source": [
        "a = 7\n",
        "b = 2\n",
        "a % b"
      ]
    },
    {
      "cell_type": "markdown",
      "metadata": {
        "id": "PK41xdHDfAne"
      },
      "source": [
        "/ vs //"
      ]
    },
    {
      "cell_type": "code",
      "execution_count": null,
      "metadata": {
        "colab": {
          "base_uri": "https://localhost:8080/"
        },
        "id": "49LMhDCnfE9H",
        "outputId": "abbd1870-0c4c-45f7-a124-121afd97fbf9"
      },
      "outputs": [
        {
          "data": {
            "text/plain": [
              "(int, int)"
            ]
          },
          "execution_count": 86,
          "metadata": {},
          "output_type": "execute_result"
        }
      ],
      "source": [
        "type(a), type(b)"
      ]
    },
    {
      "cell_type": "code",
      "execution_count": null,
      "metadata": {
        "colab": {
          "base_uri": "https://localhost:8080/"
        },
        "id": "0GS0fVoHfAQl",
        "outputId": "01b90db4-de7f-47f1-d435-c44c25f88e17"
      },
      "outputs": [
        {
          "data": {
            "text/plain": [
              "3.5"
            ]
          },
          "execution_count": 85,
          "metadata": {},
          "output_type": "execute_result"
        }
      ],
      "source": [
        "7 / 2"
      ]
    },
    {
      "cell_type": "code",
      "execution_count": null,
      "metadata": {
        "colab": {
          "base_uri": "https://localhost:8080/"
        },
        "id": "OaC90rI1fNNd",
        "outputId": "c16444d5-47ba-467b-87d0-5925f7909e19"
      },
      "outputs": [
        {
          "data": {
            "text/plain": [
              "3"
            ]
          },
          "execution_count": 87,
          "metadata": {},
          "output_type": "execute_result"
        }
      ],
      "source": [
        "7 // 2"
      ]
    },
    {
      "cell_type": "code",
      "execution_count": null,
      "metadata": {
        "id": "6QSXT30RgqNw"
      },
      "outputs": [],
      "source": [
        "import math"
      ]
    },
    {
      "cell_type": "code",
      "execution_count": null,
      "metadata": {
        "colab": {
          "base_uri": "https://localhost:8080/"
        },
        "id": "xv02Tt1pgTDH",
        "outputId": "52df76d7-4da1-41ea-89d8-d0275b69d7bc"
      },
      "outputs": [
        {
          "name": "stdout",
          "output_type": "stream",
          "text": [
            "a = 10\n",
            "b = 5\n"
          ]
        },
        {
          "data": {
            "text/plain": [
              "(10, 5)"
            ]
          },
          "execution_count": 88,
          "metadata": {},
          "output_type": "execute_result"
        }
      ],
      "source": [
        "a = int(input(\"a = \"))\n",
        "b = int(input(\"b = \"))\n",
        "a, b"
      ]
    },
    {
      "cell_type": "code",
      "execution_count": null,
      "metadata": {
        "colab": {
          "base_uri": "https://localhost:8080/"
        },
        "id": "s72ID0X3gesQ",
        "outputId": "de859190-b134-4bba-84b6-672ec945af0a"
      },
      "outputs": [
        {
          "data": {
            "text/plain": [
              "(15, 5, 50, 2.0, 2, 0, 100000, 47.434164902525694)"
            ]
          },
          "execution_count": 90,
          "metadata": {},
          "output_type": "execute_result"
        }
      ],
      "source": [
        "a + b, a - b, a * b, a / b, a // b, a % b, a ** b, (a + b) * math.sqrt(a)"
      ]
    },
    {
      "cell_type": "code",
      "execution_count": null,
      "metadata": {
        "colab": {
          "base_uri": "https://localhost:8080/"
        },
        "id": "ILRMOkH4hIWV",
        "outputId": "30b84c82-494e-45bf-e74f-651d43466794"
      },
      "outputs": [
        {
          "data": {
            "text/plain": [
              "10.0"
            ]
          },
          "execution_count": 93,
          "metadata": {},
          "output_type": "execute_result"
        }
      ],
      "source": [
        "math.sqrt(100)"
      ]
    },
    {
      "cell_type": "code",
      "execution_count": null,
      "metadata": {
        "colab": {
          "base_uri": "https://localhost:8080/"
        },
        "id": "tWIQeSN6hcpT",
        "outputId": "71319658-c155-428e-c99d-a45c8bc709cc"
      },
      "outputs": [
        {
          "data": {
            "text/plain": [
              "10.0"
            ]
          },
          "execution_count": 94,
          "metadata": {},
          "output_type": "execute_result"
        }
      ],
      "source": [
        "100 ** (1/2)"
      ]
    },
    {
      "cell_type": "markdown",
      "metadata": {
        "id": "lS56P5VYhrCi"
      },
      "source": [
        "#### 1.3. Relational, Logical Operators"
      ]
    },
    {
      "cell_type": "code",
      "execution_count": null,
      "metadata": {
        "colab": {
          "base_uri": "https://localhost:8080/"
        },
        "id": "jBQ8ivDvihf7",
        "outputId": "e4d03ddb-36b8-4e1b-8f95-683b8bb11077"
      },
      "outputs": [
        {
          "data": {
            "text/plain": [
              "True"
            ]
          },
          "execution_count": 110,
          "metadata": {},
          "output_type": "execute_result"
        }
      ],
      "source": [
        "1 >= 1 # <=, >, <, ==, !="
      ]
    },
    {
      "cell_type": "code",
      "execution_count": null,
      "metadata": {
        "colab": {
          "base_uri": "https://localhost:8080/"
        },
        "id": "Q8ShqRNzhtX3",
        "outputId": "895058fd-8a2d-4fad-f68b-b96fffa2d3ae"
      },
      "outputs": [
        {
          "data": {
            "text/plain": [
              "0"
            ]
          },
          "execution_count": 104,
          "metadata": {},
          "output_type": "execute_result"
        }
      ],
      "source": [
        "# && si || dispar in python\n",
        "1 and 0"
      ]
    },
    {
      "cell_type": "code",
      "execution_count": null,
      "metadata": {
        "colab": {
          "base_uri": "https://localhost:8080/"
        },
        "id": "bj2zPAuUiaf-",
        "outputId": "adf1b626-117a-41d3-e0fd-15a6a2aca6e4"
      },
      "outputs": [
        {
          "data": {
            "text/plain": [
              "1"
            ]
          },
          "execution_count": 108,
          "metadata": {},
          "output_type": "execute_result"
        }
      ],
      "source": [
        "1 or 0"
      ]
    },
    {
      "cell_type": "code",
      "execution_count": null,
      "metadata": {
        "colab": {
          "base_uri": "https://localhost:8080/"
        },
        "id": "i8g7zmciicXb",
        "outputId": "a29103e3-af43-493c-e568-e501288f6a5c"
      },
      "outputs": [
        {
          "data": {
            "text/plain": [
              "True"
            ]
          },
          "execution_count": 109,
          "metadata": {},
          "output_type": "execute_result"
        }
      ],
      "source": [
        "not 0"
      ]
    },
    {
      "cell_type": "code",
      "execution_count": null,
      "metadata": {
        "colab": {
          "base_uri": "https://localhost:8080/"
        },
        "id": "jQmaw2DviH1Z",
        "outputId": "bd42353e-d011-404a-8ac2-af4ecd4d8b45"
      },
      "outputs": [
        {
          "data": {
            "text/plain": [
              "3"
            ]
          },
          "execution_count": 107,
          "metadata": {},
          "output_type": "execute_result"
        }
      ],
      "source": [
        "a = 2\n",
        "a += 1\n",
        "a"
      ]
    },
    {
      "cell_type": "markdown",
      "metadata": {},
      "source": [
        "#### TODO\n",
        "Given a 3-digit number, print True if its digits are in increasing\n",
        "order, otherwise print False."
      ]
    },
    {
      "cell_type": "code",
      "execution_count": null,
      "metadata": {
        "id": "-PisQCPfiSr8"
      },
      "outputs": [],
      "source": [
        "a = 122 # True\n",
        "a = 123 # True\n",
        "# a = 212 # False"
      ]
    },
    {
      "cell_type": "code",
      "execution_count": null,
      "metadata": {
        "colab": {
          "base_uri": "https://localhost:8080/"
        },
        "id": "LXMAuiNpiqu6",
        "outputId": "6b80607c-1bea-44f8-dbc2-834946cd9c87"
      },
      "outputs": [
        {
          "data": {
            "text/plain": [
              "True"
            ]
          },
          "execution_count": 123,
          "metadata": {},
          "output_type": "execute_result"
        }
      ],
      "source": [
        "c3 = a % 10\n",
        "c2 = a // 10 % 10\n",
        "c1 = a // 100\n",
        "c1 <= c2 and c2 <= c3"
      ]
    },
    {
      "cell_type": "markdown",
      "metadata": {
        "id": "nguAZ_-tkSCy"
      },
      "source": [
        "### Part 2. If statement"
      ]
    },
    {
      "cell_type": "code",
      "execution_count": 51,
      "metadata": {
        "colab": {
          "base_uri": "https://localhost:8080/"
        },
        "id": "DJehc3bXkTOw",
        "outputId": "a6808751-6516-4198-e511-afcc97be416f"
      },
      "outputs": [
        {
          "name": "stdout",
          "output_type": "stream",
          "text": [
            "PAR\n",
            "16\n",
            "PAR si dupa\n",
            "END\n"
          ]
        }
      ],
      "source": [
        "n = 6\n",
        "\n",
        "if n % 2 == 0:\n",
        "    print(\"PAR\")\n",
        "    n += 10\n",
        "    print(n)\n",
        "    if n % 2 == 0:\n",
        "        print(\"PAR si dupa\")\n",
        "\n",
        "print(\"END\")"
      ]
    },
    {
      "cell_type": "code",
      "execution_count": 52,
      "metadata": {
        "colab": {
          "base_uri": "https://localhost:8080/"
        },
        "id": "JtbzgZCGlmhO",
        "outputId": "6dac4d63-3771-47b1-9614-699a8a70a6c0"
      },
      "outputs": [
        {
          "name": "stdout",
          "output_type": "stream",
          "text": [
            "PAR\n"
          ]
        },
        {
          "data": {
            "text/plain": [
              "11"
            ]
          },
          "execution_count": 52,
          "metadata": {},
          "output_type": "execute_result"
        }
      ],
      "source": [
        "n = 10\n",
        "if n % 2 == 0:\n",
        "    print(\"PAR\")\n",
        "    n += 1\n",
        "else:\n",
        "    print(\"IMPAR\")\n",
        "    n += 2\n",
        "n"
      ]
    },
    {
      "cell_type": "code",
      "execution_count": 53,
      "metadata": {
        "colab": {
          "base_uri": "https://localhost:8080/"
        },
        "id": "-P68ylr1l9ZQ",
        "outputId": "2a2de524-a0d4-4560-e9bd-bc3acee55516"
      },
      "outputs": [
        {
          "name": "stdout",
          "output_type": "stream",
          "text": [
            "remainder=1\n"
          ]
        }
      ],
      "source": [
        "x = 25\n",
        "if x % 3 == 0:\n",
        "    print(\"divisible by 3\")\n",
        "elif x % 3 == 1:\n",
        "    print(\"remainder=1\")\n",
        "else:\n",
        "    print(\"remainder=2\")"
      ]
    },
    {
      "cell_type": "markdown",
      "metadata": {
        "id": "dF-aCLn4r1YG"
      },
      "source": [
        "#### TODO\n",
        "Read two integers. If both numbers are even, interchange\n",
        "last digits and print the new numbers. Otherwise,\n",
        "compute their sum and compare the sum with 1000. If\n",
        "less, print the sum and the message less, otherwise print\n",
        "the sum and the message greater."
      ]
    },
    {
      "cell_type": "code",
      "execution_count": null,
      "metadata": {
        "colab": {
          "base_uri": "https://localhost:8080/"
        },
        "id": "NuV3YazksAuX",
        "outputId": "485ad643-b4a6-417c-aa2c-0cb7cbd74f88"
      },
      "outputs": [
        {
          "name": "stdout",
          "output_type": "stream",
          "text": [
            "a = 20\n",
            "b = 10\n"
          ]
        }
      ],
      "source": [
        "a = int(input(\"a = \"))\n",
        "b = int(input(\"b = \"))"
      ]
    },
    {
      "cell_type": "code",
      "execution_count": 54,
      "metadata": {
        "id": "KPr8zSWjsYUt"
      },
      "outputs": [],
      "source": [
        "a = 14\n",
        "b = 2901"
      ]
    },
    {
      "cell_type": "code",
      "execution_count": 55,
      "metadata": {
        "colab": {
          "base_uri": "https://localhost:8080/"
        },
        "id": "aohs9uyusGsJ",
        "outputId": "92980e4d-75c2-4378-ba1a-8d81a87c44fc"
      },
      "outputs": [
        {
          "name": "stdout",
          "output_type": "stream",
          "text": [
            "2915\n",
            "GREATER OR EQUAL\n"
          ]
        }
      ],
      "source": [
        "if a % 2 == 0 and b % 2 == 0:\n",
        "    uc_a = a % 10\n",
        "    uc_b = b % 10\n",
        "    a_nou = a // 10 * 10 + uc_b\n",
        "    b_nou = b // 10 * 10 + uc_a\n",
        "    print(a_nou, b_nou)\n",
        "else:\n",
        "    suma = a + b\n",
        "    print(suma)\n",
        "    if suma < 1000:\n",
        "        print(\"LESS\")\n",
        "    else:\n",
        "        print(\"GREATER OR EQUAL\")"
      ]
    },
    {
      "cell_type": "markdown",
      "metadata": {
        "id": "d5EIxeQPs1Iy"
      },
      "source": [
        "#### TODO\n",
        "Read three integers that represents lengths of some lines. Check if they can form a triangle. If so, compute the area, otherwise print a specific message."
      ]
    },
    {
      "cell_type": "code",
      "execution_count": 58,
      "metadata": {
        "colab": {
          "base_uri": "https://localhost:8080/"
        },
        "id": "0wNrQhjcs7Vk",
        "outputId": "dbd01a6f-0f1d-48b3-e308-bde122544966"
      },
      "outputs": [
        {
          "name": "stdout",
          "output_type": "stream",
          "text": [
            "6.0\n"
          ]
        }
      ],
      "source": [
        "x = 3\n",
        "y = 4\n",
        "z = 5\n",
        "\n",
        "if x + y > z and x + z > y and y + z > x:\n",
        "    p = (x + y + z) / 2\n",
        "    A_sq = p * (p - x) * (p - y) * (p - z)\n",
        "    A = math.sqrt(A_sq) # <=> A_sq ** (1 / 2)\n",
        "    print(A)\n",
        "else:\n",
        "    print(\"No triangle!\")"
      ]
    },
    {
      "cell_type": "code",
      "execution_count": 60,
      "metadata": {},
      "outputs": [
        {
          "data": {
            "text/plain": [
              "'even'"
            ]
          },
          "execution_count": 60,
          "metadata": {},
          "output_type": "execute_result"
        }
      ],
      "source": [
        "x = 8\n",
        "parity = \"even\" if x % 2 == 0 else \"odd\"\n",
        "parity"
      ]
    },
    {
      "cell_type": "markdown",
      "metadata": {},
      "source": [
        "### Part 4. While and For"
      ]
    },
    {
      "cell_type": "code",
      "execution_count": 13,
      "metadata": {
        "colab": {
          "base_uri": "https://localhost:8080/"
        },
        "id": "drZjN5qouhvn",
        "outputId": "38ee5bef-fade-4488-a25c-339feb41d73e"
      },
      "outputs": [
        {
          "name": "stdout",
          "output_type": "stream",
          "text": [
            "2\n",
            "3\n",
            "4\n",
            "5\n",
            "6\n",
            "7\n",
            "8\n",
            "9\n",
            "10\n",
            "11\n",
            "Sum is 65\n"
          ]
        }
      ],
      "source": [
        "i = 1\n",
        "s = 0\n",
        "while i <= 10:\n",
        "    i = i + 1\n",
        "    s = s + i\n",
        "    print(i)\n",
        "\n",
        "print(\"Sum is\", s)"
      ]
    },
    {
      "cell_type": "markdown",
      "metadata": {},
      "source": [
        "#### TODO\n",
        "1. Compute the sum of the the even numbers smaller than n.\n",
        "2. Come up with a random number. Create a program that\n",
        "lets the user guess the number. If the guess is smaller or\n",
        "greater than the target, print accordingly. Stop only when\n",
        "the user guesses the number correctly."
      ]
    },
    {
      "cell_type": "code",
      "execution_count": 64,
      "metadata": {},
      "outputs": [
        {
          "name": "stdout",
          "output_type": "stream",
          "text": [
            "BAD GUESS. TRY AGAIN.\n",
            "BAD GUESS. TRY AGAIN.\n",
            "YOUR GUESS IS CORRECT!\n"
          ]
        }
      ],
      "source": [
        "n = 89\n",
        "guessed = -1\n",
        "while guessed != n:\n",
        "    guessed = int(input(\"n=\"))\n",
        "    if guessed == n:\n",
        "        print(\"YOUR GUESS IS CORRECT!\")\n",
        "        break\n",
        "    print(\"BAD GUESS. TRY AGAIN.\")"
      ]
    },
    {
      "cell_type": "code",
      "execution_count": null,
      "metadata": {
        "colab": {
          "base_uri": "https://localhost:8080/"
        },
        "id": "st9dO4fxj2KZ",
        "outputId": "b6d110fe-b04f-4c12-ba7e-37fbc9ffae63"
      },
      "outputs": [
        {
          "name": "stdout",
          "output_type": "stream",
          "text": [
            "0\n",
            "1\n",
            "2\n",
            "3\n",
            "4\n",
            "5\n",
            "6\n",
            "7\n",
            "8\n",
            "9\n"
          ]
        }
      ],
      "source": [
        "for i in range(10): # for(int i = 0; i < 10; i++){ cout << i; }\n",
        "    print(i)"
      ]
    },
    {
      "cell_type": "code",
      "execution_count": null,
      "metadata": {
        "id": "YrTbuntTklbc"
      },
      "outputs": [],
      "source": [
        "help(range)"
      ]
    },
    {
      "cell_type": "code",
      "execution_count": null,
      "metadata": {
        "colab": {
          "base_uri": "https://localhost:8080/"
        },
        "id": "A6UNsZShlGts",
        "outputId": "93096f75-d127-47ac-95a1-bc3d9194612a"
      },
      "outputs": [
        {
          "name": "stdout",
          "output_type": "stream",
          "text": [
            "10\n",
            "13\n",
            "16\n",
            "19\n",
            "22\n",
            "25\n",
            "28\n",
            "31\n",
            "34\n",
            "37\n"
          ]
        }
      ],
      "source": [
        "# [10, 40) -> step=3\n",
        "for i in range(10, 40, 3):\n",
        "    print(i)"
      ]
    },
    {
      "cell_type": "markdown",
      "metadata": {},
      "source": [
        "#### TODO.\n",
        "Print all strictly positive even numbers in decreasing order starting from a number n read from user. "
      ]
    },
    {
      "cell_type": "markdown",
      "metadata": {},
      "source": [
        "### Part 5 - Lists"
      ]
    },
    {
      "cell_type": "code",
      "execution_count": null,
      "metadata": {
        "id": "k7BiUaGHq1SL"
      },
      "outputs": [],
      "source": [
        "# int a[10] = {1, 2, 3, 4}\n",
        "# vector STL\n",
        "# vector < int > v; v.push_back(10)"
      ]
    },
    {
      "cell_type": "code",
      "execution_count": 66,
      "metadata": {},
      "outputs": [
        {
          "data": {
            "text/plain": [
              "[1, 2, 3, 4, 5]"
            ]
          },
          "execution_count": 66,
          "metadata": {},
          "output_type": "execute_result"
        }
      ],
      "source": [
        "list_omo = [1, 2, 3, 4]\n",
        "list_omo.append(5)\n",
        "list_omo"
      ]
    },
    {
      "cell_type": "code",
      "execution_count": null,
      "metadata": {
        "id": "uC9wcnsLrHtJ"
      },
      "outputs": [],
      "source": [
        "list_hete = [1, True, \"ana\", 2.5]"
      ]
    },
    {
      "cell_type": "code",
      "execution_count": null,
      "metadata": {
        "colab": {
          "base_uri": "https://localhost:8080/"
        },
        "id": "2qxFJ9errXLx",
        "outputId": "c6c0e204-867c-400a-e94c-86d99ab73ed8"
      },
      "outputs": [
        {
          "data": {
            "text/plain": [
              "[1, True, 'ana', 2.5, 10]"
            ]
          },
          "execution_count": 22,
          "metadata": {},
          "output_type": "execute_result"
        }
      ],
      "source": [
        "list_hete.append(10) # adaugare la final -> O(1)\n",
        "list_hete"
      ]
    },
    {
      "cell_type": "code",
      "execution_count": null,
      "metadata": {
        "colab": {
          "base_uri": "https://localhost:8080/"
        },
        "id": "jQ_GkQdes8AR",
        "outputId": "03969f94-6e8c-4931-c96b-6187915dc680"
      },
      "outputs": [
        {
          "data": {
            "text/plain": [
              "5"
            ]
          },
          "execution_count": 24,
          "metadata": {},
          "output_type": "execute_result"
        }
      ],
      "source": [
        "len(list_hete)"
      ]
    },
    {
      "cell_type": "code",
      "execution_count": null,
      "metadata": {
        "colab": {
          "base_uri": "https://localhost:8080/"
        },
        "id": "EPyb2T0dtW6m",
        "outputId": "b0c6b286-5508-42ca-b04f-cea7f62d9883"
      },
      "outputs": [
        {
          "data": {
            "text/plain": [
              "[1, True, 'ana', 2.5, 10, 'a']"
            ]
          },
          "execution_count": 25,
          "metadata": {},
          "output_type": "execute_result"
        }
      ],
      "source": [
        "list_hete.append('a') # adaugare la final -> O(1)\n",
        "list_hete"
      ]
    },
    {
      "cell_type": "code",
      "execution_count": null,
      "metadata": {
        "colab": {
          "base_uri": "https://localhost:8080/"
        },
        "id": "aBQ_KpdetZs6",
        "outputId": "92302305-f9a2-4cb1-eeb9-4a2f4858f6b8"
      },
      "outputs": [
        {
          "data": {
            "text/plain": [
              "6"
            ]
          },
          "execution_count": 26,
          "metadata": {},
          "output_type": "execute_result"
        }
      ],
      "source": [
        "len(list_hete)"
      ]
    },
    {
      "cell_type": "code",
      "execution_count": null,
      "metadata": {
        "colab": {
          "base_uri": "https://localhost:8080/"
        },
        "id": "GzLvvbtnv3Rb",
        "outputId": "7a600016-4eff-471f-aa70-225486e12499"
      },
      "outputs": [
        {
          "name": "stdout",
          "output_type": "stream",
          "text": [
            "THERE\n"
          ]
        }
      ],
      "source": [
        "if 2.5 in list_hete:\n",
        "    print(\"THERE\")\n",
        "else:\n",
        "    print(\"NOT THERE\")"
      ]
    },
    {
      "cell_type": "code",
      "execution_count": null,
      "metadata": {
        "id": "ZuXdr1zxwiYN"
      },
      "outputs": [],
      "source": [
        "list_evens = []\n",
        "for i in range(2, 31, 2):\n",
        "    list_evens.append(i)"
      ]
    },
    {
      "cell_type": "code",
      "execution_count": null,
      "metadata": {
        "colab": {
          "base_uri": "https://localhost:8080/"
        },
        "id": "XZ-di0_VwyA7",
        "outputId": "5b079b21-8d01-4f54-8b43-1a956724106d"
      },
      "outputs": [
        {
          "data": {
            "text/plain": [
              "15"
            ]
          },
          "execution_count": 32,
          "metadata": {},
          "output_type": "execute_result"
        }
      ],
      "source": [
        "len(list_evens)"
      ]
    },
    {
      "cell_type": "code",
      "execution_count": null,
      "metadata": {
        "colab": {
          "base_uri": "https://localhost:8080/"
        },
        "id": "Yo65bDgJxCZm",
        "outputId": "361340e0-053b-443b-8647-6a4a309abe0d"
      },
      "outputs": [
        {
          "data": {
            "text/plain": [
              "[2, 4, 6, 8, 10, 12, 14, 16, 18, 20, 22, 24, 26, 28, 30]"
            ]
          },
          "execution_count": 34,
          "metadata": {},
          "output_type": "execute_result"
        }
      ],
      "source": [
        "list_evens"
      ]
    },
    {
      "cell_type": "code",
      "execution_count": null,
      "metadata": {
        "colab": {
          "base_uri": "https://localhost:8080/"
        },
        "id": "n808_Dmiw16J",
        "outputId": "299f7b30-95fe-4878-f013-59d16c0fb545"
      },
      "outputs": [
        {
          "name": "stdout",
          "output_type": "stream",
          "text": [
            "2\n",
            "4\n",
            "6\n",
            "8\n",
            "10\n",
            "12\n",
            "14\n",
            "16\n",
            "18\n",
            "20\n",
            "22\n",
            "24\n",
            "26\n",
            "28\n",
            "30\n"
          ]
        }
      ],
      "source": [
        "for el in list_evens:\n",
        "    print(el)"
      ]
    },
    {
      "cell_type": "code",
      "execution_count": null,
      "metadata": {
        "colab": {
          "base_uri": "https://localhost:8080/"
        },
        "id": "-QDDVxAQxIR9",
        "outputId": "dbac3911-8c01-41a0-9ce5-321dc143cccb"
      },
      "outputs": [
        {
          "name": "stdout",
          "output_type": "stream",
          "text": [
            "2\n",
            "4\n",
            "6\n",
            "8\n",
            "10\n",
            "12\n",
            "14\n",
            "16\n",
            "18\n",
            "20\n",
            "22\n",
            "24\n",
            "26\n",
            "28\n",
            "30\n"
          ]
        }
      ],
      "source": [
        "for i in range(len(list_evens)):\n",
        "    print(list_evens[i])"
      ]
    },
    {
      "cell_type": "code",
      "execution_count": null,
      "metadata": {
        "colab": {
          "base_uri": "https://localhost:8080/"
        },
        "id": "ZB4PyTmOxfsn",
        "outputId": "15b4af3d-5c5e-4eba-b97a-4a1058155884"
      },
      "outputs": [
        {
          "name": "stdout",
          "output_type": "stream",
          "text": [
            "0 2\n",
            "1 4\n",
            "2 6\n",
            "3 8\n",
            "4 10\n",
            "5 12\n",
            "6 14\n",
            "7 16\n",
            "8 18\n",
            "9 20\n",
            "10 22\n",
            "11 24\n",
            "12 26\n",
            "13 28\n",
            "14 30\n"
          ]
        }
      ],
      "source": [
        "for i, el in enumerate(list_evens):\n",
        "    print(i, el)"
      ]
    },
    {
      "cell_type": "code",
      "execution_count": 14,
      "metadata": {
        "id": "CRlU30JSzGJV"
      },
      "outputs": [
        {
          "data": {
            "text/plain": [
              "[1, 2, 4, 5, 9]"
            ]
          },
          "execution_count": 14,
          "metadata": {},
          "output_type": "execute_result"
        }
      ],
      "source": [
        "list_rnd = [5, 2, 9, 1, 4]\n",
        "list_rnd.sort()\n",
        "list_rnd"
      ]
    },
    {
      "cell_type": "markdown",
      "metadata": {},
      "source": [
        "#### TODO\n",
        "Create a list with square roots of the even numbers between 1 and 10."
      ]
    },
    {
      "cell_type": "code",
      "execution_count": null,
      "metadata": {
        "colab": {
          "base_uri": "https://localhost:8080/"
        },
        "id": "O9QMHprmzh8r",
        "outputId": "8df51abd-0e62-474d-9647-063e6d3bf186"
      },
      "outputs": [
        {
          "data": {
            "text/plain": [
              "[0.0, 1.4142135623730951, 2.0, 2.449489742783178, 2.8284271247461903]"
            ]
          },
          "execution_count": 53,
          "metadata": {},
          "output_type": "execute_result"
        }
      ],
      "source": [
        "my_list = [i ** (1 / 2) for i in range(10) if i % 2 == 0]\n",
        "my_list"
      ]
    },
    {
      "cell_type": "code",
      "execution_count": null,
      "metadata": {
        "colab": {
          "base_uri": "https://localhost:8080/"
        },
        "id": "o-i2kAac0F23",
        "outputId": "456eaaa4-fad0-418b-8273-7ea9c3377621"
      },
      "outputs": [
        {
          "data": {
            "text/plain": [
              "[0.0, 1.4142135623730951, 2.0, 2.449489742783178, 2.8284271247461903]"
            ]
          },
          "execution_count": 54,
          "metadata": {},
          "output_type": "execute_result"
        }
      ],
      "source": [
        "my_list = []\n",
        "for i in range(10):\n",
        "    if i % 2 == 0:\n",
        "        my_list.append(i ** (1 / 2))\n",
        "my_list"
      ]
    },
    {
      "cell_type": "markdown",
      "metadata": {},
      "source": [
        "#### Part 6. Strings"
      ]
    },
    {
      "cell_type": "code",
      "execution_count": 16,
      "metadata": {
        "colab": {
          "base_uri": "https://localhost:8080/",
          "height": 36
        },
        "id": "NtWs70e_5J8y",
        "outputId": "1937756e-3df7-4ddc-e93b-3a5e301b3fc2"
      },
      "outputs": [
        {
          "data": {
            "text/plain": [
              "'hei'"
            ]
          },
          "execution_count": 16,
          "metadata": {},
          "output_type": "execute_result"
        }
      ],
      "source": [
        "a = \"hei\"\n",
        "a"
      ]
    },
    {
      "cell_type": "code",
      "execution_count": 17,
      "metadata": {
        "colab": {
          "base_uri": "https://localhost:8080/"
        },
        "id": "xBl48nU05gxo",
        "outputId": "c62d5955-aec2-4d20-977e-43a5bb59a92a"
      },
      "outputs": [
        {
          "data": {
            "text/plain": [
              "str"
            ]
          },
          "execution_count": 17,
          "metadata": {},
          "output_type": "execute_result"
        }
      ],
      "source": [
        "type(a)"
      ]
    },
    {
      "cell_type": "code",
      "execution_count": 18,
      "metadata": {},
      "outputs": [
        {
          "data": {
            "text/plain": [
              "'heihei'"
            ]
          },
          "execution_count": 18,
          "metadata": {},
          "output_type": "execute_result"
        }
      ],
      "source": [
        "a + a"
      ]
    },
    {
      "cell_type": "code",
      "execution_count": 19,
      "metadata": {},
      "outputs": [
        {
          "data": {
            "text/plain": [
              "('heihei', 'heiheiheihei')"
            ]
          },
          "execution_count": 19,
          "metadata": {},
          "output_type": "execute_result"
        }
      ],
      "source": [
        "2 * a, 4 *a"
      ]
    },
    {
      "cell_type": "code",
      "execution_count": null,
      "metadata": {
        "colab": {
          "base_uri": "https://localhost:8080/",
          "height": 36
        },
        "id": "SBkmvMYa561L",
        "outputId": "080fb494-0b0d-47be-e035-2362c5f92add"
      },
      "outputs": [
        {
          "data": {
            "application/vnd.google.colaboratory.intrinsic+json": {
              "type": "string"
            },
            "text/plain": [
              "'ana spatiu are si mai mult spatiu anaanaanaana spatiu are si mai mult spatiu anaanaana'"
            ]
          },
          "execution_count": 74,
          "metadata": {},
          "output_type": "execute_result"
        }
      ],
      "source": [
        "(a + \" spatiu \" + b + \" si mai mult spatiu \" + a * 3) * 2"
      ]
    },
    {
      "cell_type": "code",
      "execution_count": null,
      "metadata": {
        "id": "Ep3he1Tj6mz7"
      },
      "outputs": [],
      "source": [
        "name = \"Marinicu\"\n",
        "name_list = ['M', 'a', 'r', 'i', 'n', 'i', 'c', 'u']"
      ]
    },
    {
      "cell_type": "code",
      "execution_count": null,
      "metadata": {
        "colab": {
          "base_uri": "https://localhost:8080/"
        },
        "id": "bGaHpE7Q63FG",
        "outputId": "3a154199-6a45-4613-b95e-a28dfea2d164"
      },
      "outputs": [
        {
          "data": {
            "text/plain": [
              "True"
            ]
          },
          "execution_count": 76,
          "metadata": {},
          "output_type": "execute_result"
        }
      ],
      "source": [
        "name[0] == name_list[0]"
      ]
    },
    {
      "cell_type": "code",
      "execution_count": null,
      "metadata": {
        "colab": {
          "base_uri": "https://localhost:8080/"
        },
        "id": "Cm6XvJ2o7EjG",
        "outputId": "0b576add-c26b-40bd-8013-c88b3146a1b2"
      },
      "outputs": [
        {
          "data": {
            "text/plain": [
              "['r', 'i', 'n', 'i']"
            ]
          },
          "execution_count": 85,
          "metadata": {},
          "output_type": "execute_result"
        }
      ],
      "source": [
        "list(name[2:6])"
      ]
    },
    {
      "cell_type": "code",
      "execution_count": null,
      "metadata": {
        "colab": {
          "base_uri": "https://localhost:8080/",
          "height": 36
        },
        "id": "GCCK3KZj7JwL",
        "outputId": "e08a0cc9-448a-46ae-e2b1-0e3c79b55452"
      },
      "outputs": [
        {
          "data": {
            "application/vnd.google.colaboratory.intrinsic+json": {
              "type": "string"
            },
            "text/plain": [
              "'rini'"
            ]
          },
          "execution_count": 84,
          "metadata": {},
          "output_type": "execute_result"
        }
      ],
      "source": [
        "''.join(name_list[2:6])"
      ]
    },
    {
      "cell_type": "code",
      "execution_count": null,
      "metadata": {
        "colab": {
          "base_uri": "https://localhost:8080/",
          "height": 36
        },
        "id": "45sfYSwV9uuS",
        "outputId": "0da48319-6603-445d-9e58-7d7759e38923"
      },
      "outputs": [
        {
          "data": {
            "application/vnd.google.colaboratory.intrinsic+json": {
              "type": "string"
            },
            "text/plain": [
              "'Marinicu'"
            ]
          },
          "execution_count": 89,
          "metadata": {},
          "output_type": "execute_result"
        }
      ],
      "source": [
        "name.upper().lower().capitalize()"
      ]
    },
    {
      "cell_type": "code",
      "execution_count": 20,
      "metadata": {
        "colab": {
          "base_uri": "https://localhost:8080/"
        },
        "id": "R116rHv8-gq-",
        "outputId": "7433b393-65b3-445b-fb96-ff7dda1e8da4"
      },
      "outputs": [
        {
          "data": {
            "text/plain": [
              "['Ana', 'are', 'mere', 'rosii']"
            ]
          },
          "execution_count": 20,
          "metadata": {},
          "output_type": "execute_result"
        }
      ],
      "source": [
        "sentence = \"Ana are mere rosii\"\n",
        "tokens = sentence.split()\n",
        "tokens"
      ]
    },
    {
      "cell_type": "code",
      "execution_count": null,
      "metadata": {
        "colab": {
          "base_uri": "https://localhost:8080/"
        },
        "id": "wxERLSNX-5xc",
        "outputId": "d2b2b874-9776-4d67-ea89-fec89d30969b"
      },
      "outputs": [
        {
          "data": {
            "text/plain": [
              "4"
            ]
          },
          "execution_count": 97,
          "metadata": {},
          "output_type": "execute_result"
        }
      ],
      "source": [
        "len(tokens)"
      ]
    },
    {
      "cell_type": "code",
      "execution_count": null,
      "metadata": {
        "id": "ZhgX0sbF_h7n"
      },
      "outputs": [],
      "source": [
        "# CSV = Comma Separated Values"
      ]
    },
    {
      "cell_type": "code",
      "execution_count": null,
      "metadata": {
        "colab": {
          "base_uri": "https://localhost:8080/"
        },
        "id": "7T185n2TAFwl",
        "outputId": "4f31a4f9-dd41-4984-b880-dd0e129f6a96"
      },
      "outputs": [
        {
          "name": "stdout",
          "output_type": "stream",
          "text": [
            "Help on built-in function split:\n",
            "\n",
            "split(sep=None, maxsplit=-1) method of builtins.str instance\n",
            "    Return a list of the substrings in the string, using sep as the separator string.\n",
            "    \n",
            "      sep\n",
            "        The separator used to split the string.\n",
            "    \n",
            "        When set to None (the default value), will split on any whitespace\n",
            "        character (including \\\\n \\\\r \\\\t \\\\f and spaces) and will discard\n",
            "        empty strings from the result.\n",
            "      maxsplit\n",
            "        Maximum number of splits (starting from the left).\n",
            "        -1 (the default value) means no limit.\n",
            "    \n",
            "    Note, str.split() is mainly useful for data that has been intentionally\n",
            "    delimited.  With natural text that includes punctuation, consider using\n",
            "    the regular expression module.\n",
            "\n"
          ]
        }
      ],
      "source": [
        "help(sentence.split)"
      ]
    },
    {
      "cell_type": "markdown",
      "metadata": {},
      "source": [
        "Mutable vs. **immutable**"
      ]
    },
    {
      "cell_type": "code",
      "execution_count": 21,
      "metadata": {},
      "outputs": [
        {
          "ename": "TypeError",
          "evalue": "'str' object does not support item assignment",
          "output_type": "error",
          "traceback": [
            "\u001b[1;31m---------------------------------------------------------------------------\u001b[0m",
            "\u001b[1;31mTypeError\u001b[0m                                 Traceback (most recent call last)",
            "Cell \u001b[1;32mIn[21], line 2\u001b[0m\n\u001b[0;32m      1\u001b[0m name \u001b[38;5;241m=\u001b[39m \u001b[38;5;124m\"\u001b[39m\u001b[38;5;124mMortadella\u001b[39m\u001b[38;5;124m\"\u001b[39m\n\u001b[1;32m----> 2\u001b[0m \u001b[43mname\u001b[49m\u001b[43m[\u001b[49m\u001b[38;5;241;43m3\u001b[39;49m\u001b[43m]\u001b[49m \u001b[38;5;241m=\u001b[39m \u001b[38;5;124m\"\u001b[39m\u001b[38;5;124mi\u001b[39m\u001b[38;5;124m\"\u001b[39m\n",
            "\u001b[1;31mTypeError\u001b[0m: 'str' object does not support item assignment"
          ]
        }
      ],
      "source": [
        "name = \"Mortadella\"\n",
        "name[3] = \"i\""
      ]
    },
    {
      "cell_type": "code",
      "execution_count": 22,
      "metadata": {},
      "outputs": [
        {
          "name": "stdout",
          "output_type": "stream",
          "text": [
            "Moriadella\n"
          ]
        }
      ],
      "source": [
        "name = \"Mortadella\"\n",
        "new_name = name[:3] + \"i\" + name[4:]\n",
        "print(new_name)"
      ]
    },
    {
      "cell_type": "markdown",
      "metadata": {},
      "source": [
        "#### TODO.\n",
        "Read a sentence from input.\n",
        "1. Count number of spaces.\n",
        "2. Count the number of words.\n",
        "3. Find the longest word.\n",
        "4. Add three dots at the end of the sentence.\n",
        "5. Replace every word that starts with vowel with word HERE."
      ]
    },
    {
      "cell_type": "code",
      "execution_count": null,
      "metadata": {},
      "outputs": [],
      "source": [
        "spaces = 0\n",
        "for ch in sentence:\n",
        "    if ch == ' ':\n",
        "        spaces += 1\n",
        "spaces"
      ]
    },
    {
      "cell_type": "code",
      "execution_count": null,
      "metadata": {},
      "outputs": [],
      "source": [
        "sentence.count(' ')"
      ]
    },
    {
      "cell_type": "code",
      "execution_count": null,
      "metadata": {},
      "outputs": [],
      "source": [
        "spaces = sum([1 for ch in sentence if ch == ' '])\n",
        "spaces"
      ]
    },
    {
      "cell_type": "code",
      "execution_count": null,
      "metadata": {},
      "outputs": [],
      "source": [
        "sentence = sentence + \"...\"\n",
        "sentence"
      ]
    },
    {
      "cell_type": "markdown",
      "metadata": {
        "id": "N5PyeMo-lgW4"
      },
      "source": [
        "## Part 7. Functions"
      ]
    },
    {
      "cell_type": "markdown",
      "metadata": {
        "id": "XDuqoUE53Jlw"
      },
      "source": [
        "len(), input(), print(), sort()"
      ]
    },
    {
      "cell_type": "code",
      "execution_count": null,
      "metadata": {
        "id": "r6f2Dnla3JPq"
      },
      "outputs": [],
      "source": [
        "def calling():\n",
        "    print(\"RING\")"
      ]
    },
    {
      "cell_type": "code",
      "execution_count": null,
      "metadata": {
        "colab": {
          "base_uri": "https://localhost:8080/"
        },
        "id": "GOqGrNnM3-5x",
        "outputId": "a75c37fe-7c15-4863-f169-a3cfbc8617a6"
      },
      "outputs": [
        {
          "name": "stdout",
          "output_type": "stream",
          "text": [
            "RING\n",
            "RING\n",
            "RING\n"
          ]
        }
      ],
      "source": [
        "calling()\n",
        "calling()\n",
        "calling()"
      ]
    },
    {
      "cell_type": "code",
      "execution_count": null,
      "metadata": {
        "id": "ZFBdJbmM4MdL"
      },
      "outputs": [],
      "source": [
        "def calling_specific(name):\n",
        "    print(\"RING to \", name)"
      ]
    },
    {
      "cell_type": "code",
      "execution_count": null,
      "metadata": {
        "colab": {
          "base_uri": "https://localhost:8080/"
        },
        "id": "W4VkEsTj4SoN",
        "outputId": "712634a0-ce30-4277-b673-8655f6281e4a"
      },
      "outputs": [
        {
          "name": "stdout",
          "output_type": "stream",
          "text": [
            "RING to  GIGI\n",
            "RING to  MIMI\n"
          ]
        }
      ],
      "source": [
        "calling_specific(\"GIGI\")\n",
        "calling_specific(\"MIMI\")"
      ]
    },
    {
      "cell_type": "code",
      "execution_count": null,
      "metadata": {
        "id": "0ktaxDWn4srD"
      },
      "outputs": [],
      "source": [
        "def ridicare_la_patrat(x):\n",
        "    vari = x * x\n",
        "    return vari"
      ]
    },
    {
      "cell_type": "code",
      "execution_count": null,
      "metadata": {
        "colab": {
          "base_uri": "https://localhost:8080/"
        },
        "id": "2SUcfWkC42lx",
        "outputId": "35cbd138-f9eb-4613-dc59-444e7d9deb95"
      },
      "outputs": [
        {
          "data": {
            "text/plain": [
              "25"
            ]
          },
          "execution_count": 98,
          "metadata": {},
          "output_type": "execute_result"
        }
      ],
      "source": [
        "patrat_1 = ridicare_la_patrat(5)\n",
        "patrat_1"
      ]
    },
    {
      "cell_type": "code",
      "execution_count": null,
      "metadata": {
        "colab": {
          "base_uri": "https://localhost:8080/"
        },
        "id": "ja-uMBLO5P1N",
        "outputId": "31c4418b-c807-42a4-88cb-7a84f1b31f21"
      },
      "outputs": [
        {
          "data": {
            "text/plain": [
              "25"
            ]
          },
          "execution_count": 103,
          "metadata": {},
          "output_type": "execute_result"
        }
      ],
      "source": [
        "ridicare_la_patrat(5)"
      ]
    },
    {
      "cell_type": "code",
      "execution_count": null,
      "metadata": {
        "id": "wuy1AEbE50JS"
      },
      "outputs": [],
      "source": [
        "def sum(a, b=1):\n",
        "    return a + b"
      ]
    },
    {
      "cell_type": "code",
      "execution_count": null,
      "metadata": {
        "colab": {
          "base_uri": "https://localhost:8080/",
          "height": 141
        },
        "id": "FCT9HzKz6giA",
        "outputId": "545c1bb5-e256-43c6-96b0-a46a9949e968"
      },
      "outputs": [
        {
          "ename": "TypeError",
          "evalue": "sum() missing 1 required positional argument: 'a'",
          "output_type": "error",
          "traceback": [
            "\u001b[0;31m---------------------------------------------------------------------------\u001b[0m",
            "\u001b[0;31mTypeError\u001b[0m                                 Traceback (most recent call last)",
            "\u001b[0;32m<ipython-input-121-217cace8f485>\u001b[0m in \u001b[0;36m<cell line: 1>\u001b[0;34m()\u001b[0m\n\u001b[0;32m----> 1\u001b[0;31m \u001b[0msum\u001b[0m\u001b[0;34m(\u001b[0m\u001b[0;34m)\u001b[0m\u001b[0;34m\u001b[0m\u001b[0;34m\u001b[0m\u001b[0m\n\u001b[0m",
            "\u001b[0;31mTypeError\u001b[0m: sum() missing 1 required positional argument: 'a'"
          ]
        }
      ],
      "source": [
        "sum()"
      ]
    },
    {
      "cell_type": "code",
      "execution_count": null,
      "metadata": {
        "colab": {
          "base_uri": "https://localhost:8080/"
        },
        "id": "SAhCAEyC52B0",
        "outputId": "3e8d49bd-ac90-4373-ddb6-1326c3197b4e"
      },
      "outputs": [
        {
          "data": {
            "text/plain": [
              "(3, 5)"
            ]
          },
          "execution_count": 122,
          "metadata": {},
          "output_type": "execute_result"
        }
      ],
      "source": [
        "sum(2), sum(2, 3)"
      ]
    },
    {
      "cell_type": "code",
      "execution_count": null,
      "metadata": {
        "id": "-Fa9JayV6rTZ"
      },
      "outputs": [],
      "source": [
        "def power(baza, exp):\n",
        "    return baza ** exp"
      ]
    },
    {
      "cell_type": "code",
      "execution_count": null,
      "metadata": {
        "colab": {
          "base_uri": "https://localhost:8080/"
        },
        "id": "HBYixIQz6yTj",
        "outputId": "6bd32843-215b-4bb4-9dbd-a0ef836c2a6f"
      },
      "outputs": [
        {
          "data": {
            "text/plain": [
              "(32, 25)"
            ]
          },
          "execution_count": 124,
          "metadata": {},
          "output_type": "execute_result"
        }
      ],
      "source": [
        "power(2, 5), power(5, 2)"
      ]
    },
    {
      "cell_type": "code",
      "execution_count": null,
      "metadata": {
        "colab": {
          "base_uri": "https://localhost:8080/"
        },
        "id": "IhFSP5zQ66Tt",
        "outputId": "9b4937a8-30e9-4812-e839-f5b520619903"
      },
      "outputs": [
        {
          "data": {
            "text/plain": [
              "32"
            ]
          },
          "execution_count": 125,
          "metadata": {},
          "output_type": "execute_result"
        }
      ],
      "source": [
        "power(exp=5, baza=2)"
      ]
    },
    {
      "cell_type": "code",
      "execution_count": null,
      "metadata": {
        "colab": {
          "base_uri": "https://localhost:8080/"
        },
        "id": "CAiKhLps7CoD",
        "outputId": "d647b10f-8225-4079-8837-c4bce04e21b6"
      },
      "outputs": [
        {
          "data": {
            "text/plain": [
              "32"
            ]
          },
          "execution_count": 126,
          "metadata": {},
          "output_type": "execute_result"
        }
      ],
      "source": [
        "power(2, 5)"
      ]
    },
    {
      "cell_type": "code",
      "execution_count": null,
      "metadata": {
        "id": "yFFpWKQ47SxE"
      },
      "outputs": [],
      "source": [
        "def operations(a, b):\n",
        "    return a + b, a - b"
      ]
    },
    {
      "cell_type": "code",
      "execution_count": null,
      "metadata": {
        "colab": {
          "base_uri": "https://localhost:8080/"
        },
        "id": "RhW0fouA8FPC",
        "outputId": "8f766d67-4ac3-438c-dae0-006998aaa04e"
      },
      "outputs": [
        {
          "data": {
            "text/plain": [
              "(11, -1)"
            ]
          },
          "execution_count": 132,
          "metadata": {},
          "output_type": "execute_result"
        }
      ],
      "source": [
        "operations(5, 6)"
      ]
    },
    {
      "cell_type": "code",
      "execution_count": null,
      "metadata": {
        "id": "XcNy1YBU7V6m"
      },
      "outputs": [],
      "source": [
        "ad, sc = operations(5, 6)"
      ]
    },
    {
      "cell_type": "code",
      "execution_count": null,
      "metadata": {
        "colab": {
          "base_uri": "https://localhost:8080/"
        },
        "id": "eu2G32wc7sC9",
        "outputId": "551ea249-ad4a-44e7-b985-21a1d882e9d0"
      },
      "outputs": [
        {
          "data": {
            "text/plain": [
              "11"
            ]
          },
          "execution_count": 130,
          "metadata": {},
          "output_type": "execute_result"
        }
      ],
      "source": [
        "ad"
      ]
    },
    {
      "cell_type": "code",
      "execution_count": null,
      "metadata": {
        "colab": {
          "base_uri": "https://localhost:8080/"
        },
        "id": "0mB3APNt7vG3",
        "outputId": "0a8a9e36-2e33-4cef-e278-6a55c42a3329"
      },
      "outputs": [
        {
          "data": {
            "text/plain": [
              "-1"
            ]
          },
          "execution_count": 131,
          "metadata": {},
          "output_type": "execute_result"
        }
      ],
      "source": [
        "sc"
      ]
    },
    {
      "cell_type": "code",
      "execution_count": null,
      "metadata": {
        "colab": {
          "base_uri": "https://localhost:8080/"
        },
        "id": "xBVlJdXz8Skh",
        "outputId": "30f2546b-30ec-43c7-df1c-8df2d3c21037"
      },
      "outputs": [
        {
          "name": "stdout",
          "output_type": "stream",
          "text": [
            "None\n"
          ]
        }
      ],
      "source": [
        "def hei():\n",
        "    a = 2\n",
        "\n",
        "print(hei())"
      ]
    },
    {
      "cell_type": "markdown",
      "metadata": {},
      "source": [
        "### TODO.\n",
        "Write a function that gets a string as input and returns True or False if the string is palindrome."
      ]
    },
    {
      "cell_type": "markdown",
      "metadata": {
        "id": "x39B7lxoEksf"
      },
      "source": [
        "## Part 8. Files"
      ]
    },
    {
      "cell_type": "code",
      "execution_count": null,
      "metadata": {
        "colab": {
          "base_uri": "https://localhost:8080/"
        },
        "id": "0YGH9xeiEmx3",
        "outputId": "3110220a-defd-4b0d-ef8e-8de6446ef492"
      },
      "outputs": [
        {
          "name": "stdout",
          "output_type": "stream",
          "text": [
            "prima linie\n",
            "a doua\n",
            "a treia\n",
            "a patra"
          ]
        }
      ],
      "source": [
        "with open(\"file.txt\", \"r\") as reader:\n",
        "    for line in reader:\n",
        "        print(line, end='')"
      ]
    },
    {
      "cell_type": "code",
      "execution_count": null,
      "metadata": {
        "id": "4zDtUtNPGaJN"
      },
      "outputs": [],
      "source": [
        "with open(\"numbers.txt\", \"w\") as writer:\n",
        "    for i in range(100):\n",
        "        writer.write(str(i))\n",
        "        writer.write('\\n')"
      ]
    },
    {
      "cell_type": "code",
      "execution_count": null,
      "metadata": {
        "id": "cFztoFlSG2BP"
      },
      "outputs": [],
      "source": [
        "with open(\"numbers2.txt\", \"w\") as writer:\n",
        "    for i in range(10):\n",
        "        writer.write(str(i))\n",
        "        writer.write('\\n')"
      ]
    },
    {
      "cell_type": "markdown",
      "metadata": {},
      "source": [
        "## Part 9. Data structures"
      ]
    },
    {
      "cell_type": "markdown",
      "metadata": {
        "id": "hYoyv-13zoHG"
      },
      "source": [
        "### 9.1. Set"
      ]
    },
    {
      "cell_type": "code",
      "execution_count": 23,
      "metadata": {
        "id": "M0sPNLHGotfN"
      },
      "outputs": [],
      "source": [
        "my_set = {1, \"Gicu\", 2.5, False}"
      ]
    },
    {
      "cell_type": "code",
      "execution_count": 25,
      "metadata": {
        "colab": {
          "base_uri": "https://localhost:8080/"
        },
        "id": "AvH9R2_yzxw_",
        "outputId": "158553c7-a62f-4593-b258-2ece2dc238fb"
      },
      "outputs": [
        {
          "data": {
            "text/plain": [
              "{1, 2.5, False, 'Gicu'}"
            ]
          },
          "execution_count": 25,
          "metadata": {},
          "output_type": "execute_result"
        }
      ],
      "source": [
        "my_set"
      ]
    },
    {
      "cell_type": "code",
      "execution_count": 26,
      "metadata": {
        "id": "ym2N6EbE3GHm"
      },
      "outputs": [
        {
          "data": {
            "text/plain": [
              "{1, 2.5, 5, False, 'Gicu'}"
            ]
          },
          "execution_count": 26,
          "metadata": {},
          "output_type": "execute_result"
        }
      ],
      "source": [
        "my_set.add(5)\n",
        "my_set"
      ]
    },
    {
      "cell_type": "code",
      "execution_count": 27,
      "metadata": {
        "colab": {
          "base_uri": "https://localhost:8080/"
        },
        "id": "mtBBYHW33LC3",
        "outputId": "33f0f18a-e9a9-4a65-e6a2-2c42f6aa44e1"
      },
      "outputs": [
        {
          "data": {
            "text/plain": [
              "{1, 2.5, 5, False, 'Gicu', 'Misu'}"
            ]
          },
          "execution_count": 27,
          "metadata": {},
          "output_type": "execute_result"
        }
      ],
      "source": [
        "my_set.add(\"Misu\")\n",
        "my_set"
      ]
    },
    {
      "cell_type": "code",
      "execution_count": 29,
      "metadata": {},
      "outputs": [
        {
          "data": {
            "text/plain": [
              "{1, 2.5, 5, False, 'Gicu', 'Misu'}"
            ]
          },
          "execution_count": 29,
          "metadata": {},
          "output_type": "execute_result"
        }
      ],
      "source": [
        "my_set.add(\"Misu\")\n",
        "my_set  # nothing new"
      ]
    },
    {
      "cell_type": "code",
      "execution_count": null,
      "metadata": {
        "colab": {
          "base_uri": "https://localhost:8080/"
        },
        "id": "cZNZpERw4EW_",
        "outputId": "56751d84-dc20-45c0-baa4-1801ffd0cb60"
      },
      "outputs": [
        {
          "data": {
            "text/plain": [
              "{1, 2.5, 5, False, 'Gicu', 'Misu', 'Zimi'}"
            ]
          },
          "execution_count": 6,
          "metadata": {},
          "output_type": "execute_result"
        }
      ],
      "source": [
        "my_set.add(\"Zimi\") # O(1)\n",
        "my_set"
      ]
    },
    {
      "cell_type": "code",
      "execution_count": 30,
      "metadata": {
        "colab": {
          "base_uri": "https://localhost:8080/"
        },
        "id": "X-PKfoCI4M8b",
        "outputId": "67670ad4-3775-4aee-faf7-879a0ed5090f"
      },
      "outputs": [
        {
          "data": {
            "text/plain": [
              "True"
            ]
          },
          "execution_count": 30,
          "metadata": {},
          "output_type": "execute_result"
        }
      ],
      "source": [
        "2.5 in my_set  # O(1) spre deosebire de O(n)-ul de la liste"
      ]
    },
    {
      "cell_type": "code",
      "execution_count": null,
      "metadata": {
        "id": "dS8MS9Mt6I7U"
      },
      "outputs": [],
      "source": [
        "my_set.remove(\"Misu\")"
      ]
    },
    {
      "cell_type": "code",
      "execution_count": null,
      "metadata": {
        "colab": {
          "base_uri": "https://localhost:8080/"
        },
        "id": "d6MSfaDP6Sbf",
        "outputId": "d5b9381b-e11e-48d8-ef21-c91ee253c623"
      },
      "outputs": [
        {
          "data": {
            "text/plain": [
              "{1, 2.5, 5, False, 'Gicu', 'Zimi'}"
            ]
          },
          "execution_count": 11,
          "metadata": {},
          "output_type": "execute_result"
        }
      ],
      "source": [
        "my_set"
      ]
    },
    {
      "cell_type": "code",
      "execution_count": null,
      "metadata": {
        "colab": {
          "base_uri": "https://localhost:8080/"
        },
        "id": "9SSIFDMr6ZQV",
        "outputId": "e6d2f9d8-c27e-4d96-9276-84c48cee293b"
      },
      "outputs": [
        {
          "data": {
            "text/plain": [
              "[11, 4, 4, 4, 5, 1, 2, 2, 2, 3, 3, 6]"
            ]
          },
          "execution_count": 14,
          "metadata": {},
          "output_type": "execute_result"
        }
      ],
      "source": [
        "my_list = [11, 4, 4, 4, 5, 1, 2, 2, 2, 3, 3, 6]\n",
        "my_list"
      ]
    },
    {
      "cell_type": "code",
      "execution_count": null,
      "metadata": {
        "colab": {
          "base_uri": "https://localhost:8080/"
        },
        "id": "1xmSIpzt6enG",
        "outputId": "15cfff87-4b2e-4dbb-a701-52782fce23f0"
      },
      "outputs": [
        {
          "data": {
            "text/plain": [
              "{1, 2, 3, 4, 5, 6, 11}"
            ]
          },
          "execution_count": 15,
          "metadata": {},
          "output_type": "execute_result"
        }
      ],
      "source": [
        "set(my_list)"
      ]
    },
    {
      "cell_type": "code",
      "execution_count": null,
      "metadata": {
        "id": "gzkkrDSv6oeA"
      },
      "outputs": [],
      "source": [
        "empty_list = []\n",
        "empty_set = set()"
      ]
    },
    {
      "cell_type": "code",
      "execution_count": null,
      "metadata": {
        "colab": {
          "base_uri": "https://localhost:8080/"
        },
        "id": "n63dC1NN6-LO",
        "outputId": "13c177ba-e49a-40d3-ebc5-8b00ff4d29f4"
      },
      "outputs": [
        {
          "data": {
            "text/plain": [
              "(list, set)"
            ]
          },
          "execution_count": 20,
          "metadata": {},
          "output_type": "execute_result"
        }
      ],
      "source": [
        "type(empty_list), type(empty_set)"
      ]
    },
    {
      "cell_type": "code",
      "execution_count": null,
      "metadata": {
        "colab": {
          "base_uri": "https://localhost:8080/"
        },
        "id": "ZWh8_bqH7YXv",
        "outputId": "4f8bbdd3-4de3-4633-c2d1-6a7fedd9166c"
      },
      "outputs": [
        {
          "data": {
            "text/plain": [
              "{1, 2.5, 5, False, 'Gicu', 'Zimi'}"
            ]
          },
          "execution_count": 22,
          "metadata": {},
          "output_type": "execute_result"
        }
      ],
      "source": [
        "my_set"
      ]
    },
    {
      "cell_type": "code",
      "execution_count": null,
      "metadata": {
        "colab": {
          "base_uri": "https://localhost:8080/"
        },
        "id": "xDLHqN7Z7QR6",
        "outputId": "2613d265-d2ae-43c1-e3ca-4113b4e16b1a"
      },
      "outputs": [
        {
          "name": "stdout",
          "output_type": "stream",
          "text": [
            "False\n",
            "1\n",
            "2.5\n",
            "Zimi\n",
            "5\n",
            "Gicu\n"
          ]
        }
      ],
      "source": [
        "for el in my_set:\n",
        "    print(el)"
      ]
    },
    {
      "cell_type": "code",
      "execution_count": null,
      "metadata": {
        "colab": {
          "base_uri": "https://localhost:8080/"
        },
        "id": "9m_3YpY07boE",
        "outputId": "b961ef10-69de-46c2-d26a-845d8fe163c4"
      },
      "outputs": [
        {
          "data": {
            "text/plain": [
              "{1, 2}"
            ]
          },
          "execution_count": 26,
          "metadata": {},
          "output_type": "execute_result"
        }
      ],
      "source": [
        "set1 = {1, 2, 3, 4}\n",
        "set2 = {3, 4, 5, 6}\n",
        "\n",
        "set1 - set2"
      ]
    },
    {
      "cell_type": "code",
      "execution_count": null,
      "metadata": {
        "colab": {
          "base_uri": "https://localhost:8080/"
        },
        "id": "pjWzZ68O775a",
        "outputId": "f8c4f129-426d-4ed9-c137-f3f29ed39785"
      },
      "outputs": [
        {
          "data": {
            "text/plain": [
              "set"
            ]
          },
          "execution_count": 31,
          "metadata": {},
          "output_type": "execute_result"
        }
      ],
      "source": [
        "list1 = [1, 2, 3, 4]\n",
        "list2 = [3, 4, 5, 6]\n",
        "\n",
        "type(set(list1))"
      ]
    },
    {
      "cell_type": "markdown",
      "metadata": {
        "id": "6MD1Ou-E8oGr"
      },
      "source": [
        "### 9.2. Dict"
      ]
    },
    {
      "cell_type": "code",
      "execution_count": null,
      "metadata": {
        "id": "QYnGOOdC8nS-"
      },
      "outputs": [],
      "source": [
        "my_dict = {\n",
        "    \"nume1\": 5,\n",
        "    \"nume2\": 6,\n",
        "    \"nume3\": 7\n",
        "}"
      ]
    },
    {
      "cell_type": "code",
      "execution_count": null,
      "metadata": {
        "colab": {
          "base_uri": "https://localhost:8080/"
        },
        "id": "leZdnGpj8w5L",
        "outputId": "a442754b-b8dc-43aa-a13d-b16159c1fac2"
      },
      "outputs": [
        {
          "data": {
            "text/plain": [
              "{'nume1': 5, 'nume2': 6, 'nume3': 7}"
            ]
          },
          "execution_count": 70,
          "metadata": {},
          "output_type": "execute_result"
        }
      ],
      "source": [
        "my_dict"
      ]
    },
    {
      "cell_type": "code",
      "execution_count": null,
      "metadata": {
        "colab": {
          "base_uri": "https://localhost:8080/"
        },
        "id": "suhRr2JM8yyL",
        "outputId": "1876c425-b855-4e86-e215-4fd3bda20336"
      },
      "outputs": [
        {
          "data": {
            "text/plain": [
              "dict_keys(['nume1', 'nume2', 'nume3'])"
            ]
          },
          "execution_count": 71,
          "metadata": {},
          "output_type": "execute_result"
        }
      ],
      "source": [
        "chei = my_dict.keys()\n",
        "chei"
      ]
    },
    {
      "cell_type": "code",
      "execution_count": null,
      "metadata": {
        "colab": {
          "base_uri": "https://localhost:8080/"
        },
        "id": "C8xaBYfpBbxV",
        "outputId": "190550a4-29e8-44bd-b0fe-ef7c4e304d26"
      },
      "outputs": [
        {
          "data": {
            "text/plain": [
              "['nume1', 'nume2', 'nume3']"
            ]
          },
          "execution_count": 73,
          "metadata": {},
          "output_type": "execute_result"
        }
      ],
      "source": [
        "list_chei = list(chei)\n",
        "list_chei"
      ]
    },
    {
      "cell_type": "code",
      "execution_count": null,
      "metadata": {
        "colab": {
          "base_uri": "https://localhost:8080/"
        },
        "id": "3M9dRQTD84bA",
        "outputId": "fed23698-6f21-412d-a14a-c96f4f8f2599"
      },
      "outputs": [
        {
          "data": {
            "text/plain": [
              "dict_values([5, 6, 7])"
            ]
          },
          "execution_count": 61,
          "metadata": {},
          "output_type": "execute_result"
        }
      ],
      "source": [
        "my_dict.values()"
      ]
    },
    {
      "cell_type": "code",
      "execution_count": null,
      "metadata": {
        "colab": {
          "base_uri": "https://localhost:8080/"
        },
        "id": "-L3CENhj897u",
        "outputId": "4251f388-dc98-4ddd-b228-cb1c28dd55b8"
      },
      "outputs": [
        {
          "data": {
            "text/plain": [
              "5"
            ]
          },
          "execution_count": 62,
          "metadata": {},
          "output_type": "execute_result"
        }
      ],
      "source": [
        "my_dict[\"nume1\"]"
      ]
    },
    {
      "cell_type": "code",
      "execution_count": null,
      "metadata": {
        "colab": {
          "base_uri": "https://localhost:8080/",
          "height": 141
        },
        "id": "wU-tRcpv9A26",
        "outputId": "2148dfb7-9c73-43c6-f2d5-8458c07e4066"
      },
      "outputs": [
        {
          "ename": "KeyError",
          "evalue": "'nume4'",
          "output_type": "error",
          "traceback": [
            "\u001b[0;31m---------------------------------------------------------------------------\u001b[0m",
            "\u001b[0;31mKeyError\u001b[0m                                  Traceback (most recent call last)",
            "\u001b[0;32m<ipython-input-63-9eafde8504c2>\u001b[0m in \u001b[0;36m<cell line: 1>\u001b[0;34m()\u001b[0m\n\u001b[0;32m----> 1\u001b[0;31m \u001b[0mmy_dict\u001b[0m\u001b[0;34m[\u001b[0m\u001b[0;34m\"nume4\"\u001b[0m\u001b[0;34m]\u001b[0m\u001b[0;34m\u001b[0m\u001b[0;34m\u001b[0m\u001b[0m\n\u001b[0m",
            "\u001b[0;31mKeyError\u001b[0m: 'nume4'"
          ]
        }
      ],
      "source": [
        "my_dict[\"nume4\"]"
      ]
    },
    {
      "cell_type": "code",
      "execution_count": null,
      "metadata": {
        "id": "hav9jq1J9Dx4"
      },
      "outputs": [],
      "source": [
        "my_dict[\"nume1\"] = 8"
      ]
    },
    {
      "cell_type": "code",
      "execution_count": null,
      "metadata": {
        "colab": {
          "base_uri": "https://localhost:8080/"
        },
        "id": "ltMbIq-x9HRd",
        "outputId": "07057634-babb-41e5-95ac-75568a00a405"
      },
      "outputs": [
        {
          "data": {
            "text/plain": [
              "{'nume1': 8, 'nume2': 6, 'nume3': 7}"
            ]
          },
          "execution_count": 40,
          "metadata": {},
          "output_type": "execute_result"
        }
      ],
      "source": [
        "my_dict"
      ]
    },
    {
      "cell_type": "code",
      "execution_count": null,
      "metadata": {
        "colab": {
          "base_uri": "https://localhost:8080/"
        },
        "id": "qu9CnRjP9JRR",
        "outputId": "446d9007-2b79-4368-99f0-8cbaeaf54618"
      },
      "outputs": [
        {
          "data": {
            "text/plain": [
              "{'nume1': 5, 'nume2': 6, 'nume3': 7, 'nume4': 105}"
            ]
          },
          "execution_count": 74,
          "metadata": {},
          "output_type": "execute_result"
        }
      ],
      "source": [
        "my_dict[\"nume4\"] = 105\n",
        "my_dict"
      ]
    },
    {
      "cell_type": "code",
      "execution_count": null,
      "metadata": {
        "colab": {
          "base_uri": "https://localhost:8080/"
        },
        "id": "2PTL03a09UXd",
        "outputId": "d7e4ccfa-b6dd-4810-92c0-2c27446a8a94"
      },
      "outputs": [
        {
          "data": {
            "text/plain": [
              "105"
            ]
          },
          "execution_count": 42,
          "metadata": {},
          "output_type": "execute_result"
        }
      ],
      "source": [
        "my_dict[\"nume4\"]"
      ]
    },
    {
      "cell_type": "code",
      "execution_count": null,
      "metadata": {
        "colab": {
          "base_uri": "https://localhost:8080/",
          "height": 35
        },
        "id": "6gL6EgIo9hjg",
        "outputId": "1891a0d5-a6b2-49dd-e8a4-b731a7f64af9"
      },
      "outputs": [
        {
          "data": {
            "application/vnd.google.colaboratory.intrinsic+json": {
              "type": "string"
            },
            "text/plain": [
              "'Nu am gasit cheia'"
            ]
          },
          "execution_count": 43,
          "metadata": {},
          "output_type": "execute_result"
        }
      ],
      "source": [
        "my_dict.get(\"nume5\", \"Nu am gasit cheia\")"
      ]
    },
    {
      "cell_type": "code",
      "execution_count": null,
      "metadata": {
        "colab": {
          "base_uri": "https://localhost:8080/"
        },
        "id": "hradoy5t90sa",
        "outputId": "94321835-1ac6-4790-ea16-a12473ed2fb7"
      },
      "outputs": [
        {
          "data": {
            "text/plain": [
              "(False, True)"
            ]
          },
          "execution_count": 44,
          "metadata": {},
          "output_type": "execute_result"
        }
      ],
      "source": [
        "\"nume5\" in my_dict, \"nume4\" in my_dict"
      ]
    },
    {
      "cell_type": "code",
      "execution_count": null,
      "metadata": {
        "colab": {
          "base_uri": "https://localhost:8080/"
        },
        "id": "9EVhIc-V-SC8",
        "outputId": "532d81b5-7cdb-485f-a17c-3a964dee1467"
      },
      "outputs": [
        {
          "data": {
            "text/plain": [
              "True"
            ]
          },
          "execution_count": 45,
          "metadata": {},
          "output_type": "execute_result"
        }
      ],
      "source": [
        "105 in my_dict.values()"
      ]
    },
    {
      "cell_type": "code",
      "execution_count": null,
      "metadata": {
        "id": "KiwOLw-F-XA5"
      },
      "outputs": [],
      "source": [
        "del my_dict[\"nume4\"]"
      ]
    },
    {
      "cell_type": "code",
      "execution_count": null,
      "metadata": {
        "colab": {
          "base_uri": "https://localhost:8080/"
        },
        "id": "7GdKaQTL-ZyY",
        "outputId": "07d34284-6f7f-4976-ab3c-a803c75b6984"
      },
      "outputs": [
        {
          "data": {
            "text/plain": [
              "{'nume1': 8, 'nume2': 6, 'nume3': 7}"
            ]
          },
          "execution_count": 47,
          "metadata": {},
          "output_type": "execute_result"
        }
      ],
      "source": [
        "my_dict"
      ]
    },
    {
      "cell_type": "code",
      "execution_count": null,
      "metadata": {
        "colab": {
          "base_uri": "https://localhost:8080/"
        },
        "id": "fVa9rHYn-faT",
        "outputId": "f7e6c4bf-d01f-4bac-e08f-525cc9b3f7ef"
      },
      "outputs": [
        {
          "name": "stdout",
          "output_type": "stream",
          "text": [
            "nume1: 8\n",
            "nume2: 6\n",
            "nume3: 7\n"
          ]
        }
      ],
      "source": [
        "for key, value in my_dict.items():\n",
        "    print(f\"{key}: {value}\")"
      ]
    },
    {
      "cell_type": "code",
      "execution_count": null,
      "metadata": {
        "colab": {
          "base_uri": "https://localhost:8080/"
        },
        "id": "YOYR7p_9-wY9",
        "outputId": "c4504517-e2fd-4a85-decf-e9f86549465b"
      },
      "outputs": [
        {
          "name": "stdout",
          "output_type": "stream",
          "text": [
            "('nume1', 5)\n",
            "('nume2', 6)\n",
            "('nume3', 7)\n",
            "('nume4', 105)\n"
          ]
        }
      ],
      "source": [
        "for el in my_dict.items():\n",
        "    print(el)"
      ]
    },
    {
      "cell_type": "code",
      "execution_count": null,
      "metadata": {
        "id": "eh5kV66X-2BM"
      },
      "outputs": [],
      "source": [
        "my_dict[5] = 10"
      ]
    },
    {
      "cell_type": "code",
      "execution_count": null,
      "metadata": {
        "colab": {
          "base_uri": "https://localhost:8080/"
        },
        "id": "oTFH-P-K-5Qu",
        "outputId": "8be223a4-0627-4e31-cce4-008c207686f5"
      },
      "outputs": [
        {
          "data": {
            "text/plain": [
              "{'nume1': 8, 'nume2': 6, 'nume3': 7, 5: 10}"
            ]
          },
          "execution_count": 53,
          "metadata": {},
          "output_type": "execute_result"
        }
      ],
      "source": [
        "my_dict"
      ]
    },
    {
      "cell_type": "code",
      "execution_count": null,
      "metadata": {
        "colab": {
          "base_uri": "https://localhost:8080/",
          "height": 141
        },
        "id": "U4lL9aeq-8CT",
        "outputId": "c3b9b427-8bec-41ec-e6ec-6d874f921d88"
      },
      "outputs": [
        {
          "ename": "TypeError",
          "evalue": "unhashable type: 'list'",
          "output_type": "error",
          "traceback": [
            "\u001b[0;31m---------------------------------------------------------------------------\u001b[0m",
            "\u001b[0;31mTypeError\u001b[0m                                 Traceback (most recent call last)",
            "\u001b[0;32m<ipython-input-54-bc06dfdb544c>\u001b[0m in \u001b[0;36m<cell line: 1>\u001b[0;34m()\u001b[0m\n\u001b[0;32m----> 1\u001b[0;31m \u001b[0mmy_dict\u001b[0m\u001b[0;34m[\u001b[0m\u001b[0;34m[\u001b[0m\u001b[0;36m1\u001b[0m\u001b[0;34m,\u001b[0m \u001b[0;36m2\u001b[0m\u001b[0;34m]\u001b[0m\u001b[0;34m]\u001b[0m \u001b[0;34m=\u001b[0m \u001b[0;36m2\u001b[0m\u001b[0;34m\u001b[0m\u001b[0;34m\u001b[0m\u001b[0m\n\u001b[0m",
            "\u001b[0;31mTypeError\u001b[0m: unhashable type: 'list'"
          ]
        }
      ],
      "source": [
        "my_dict[[1, 2]] = 2"
      ]
    },
    {
      "cell_type": "code",
      "execution_count": null,
      "metadata": {
        "id": "4-nr6IPb_iTF"
      },
      "outputs": [],
      "source": [
        "my_dict[(1, 2)] = 2"
      ]
    },
    {
      "cell_type": "markdown",
      "metadata": {
        "id": "Zd8VbesI_5mS"
      },
      "source": [
        "Cheile de dictionare vor fi doar obiecte IMMUTABLE (int, strings, tuples, float...) nu vor fi LISTE!"
      ]
    },
    {
      "cell_type": "code",
      "execution_count": null,
      "metadata": {
        "id": "kvJeIrcb_rFa"
      },
      "outputs": [],
      "source": [
        "my_dict[tuple([1, 2])] = 2"
      ]
    },
    {
      "cell_type": "markdown",
      "metadata": {},
      "source": [
        "### TODO\n",
        "Given a list of names, create a dictionary where the keys are the names and the values are the number of occs of that name in the list."
      ]
    },
    {
      "cell_type": "code",
      "execution_count": null,
      "metadata": {
        "id": "16YSqfXvMQBZ"
      },
      "outputs": [],
      "source": [
        "names = [\"Tara\", \"Mihai\", \"Patric\", \"Cezar\", \"Andrei\", \"Patric\", \"Tara\", \"Andrei\", \"Andrei\"]"
      ]
    },
    {
      "cell_type": "code",
      "execution_count": null,
      "metadata": {
        "colab": {
          "base_uri": "https://localhost:8080/"
        },
        "id": "-5macegbMbEq",
        "outputId": "3e8a0b37-f809-402c-ea40-7dffa680d157"
      },
      "outputs": [
        {
          "name": "stdout",
          "output_type": "stream",
          "text": [
            "{'Tara': 1}\n",
            "{'Tara': 1, 'Mihai': 1}\n",
            "{'Tara': 1, 'Mihai': 1, 'Patric': 1}\n",
            "{'Tara': 1, 'Mihai': 1, 'Patric': 1, 'Cezar': 1}\n",
            "{'Tara': 1, 'Mihai': 1, 'Patric': 1, 'Cezar': 1, 'Andrei': 1}\n",
            "{'Tara': 1, 'Mihai': 1, 'Patric': 2, 'Cezar': 1, 'Andrei': 1}\n",
            "{'Tara': 2, 'Mihai': 1, 'Patric': 2, 'Cezar': 1, 'Andrei': 1}\n",
            "{'Tara': 2, 'Mihai': 1, 'Patric': 2, 'Cezar': 1, 'Andrei': 2}\n",
            "{'Tara': 2, 'Mihai': 1, 'Patric': 2, 'Cezar': 1, 'Andrei': 3}\n"
          ]
        }
      ],
      "source": [
        "names_dict = {}\n",
        "\n",
        "for name in names:\n",
        "    if name not in names_dict:\n",
        "        names_dict[name] = 0\n",
        "\n",
        "    names_dict[name] += 1\n",
        "\n",
        "    print(names_dict)"
      ]
    },
    {
      "cell_type": "code",
      "execution_count": null,
      "metadata": {
        "colab": {
          "base_uri": "https://localhost:8080/"
        },
        "id": "qSp0EVgHMpHH",
        "outputId": "32d29443-32b5-4660-ba78-6377dcabc739"
      },
      "outputs": [
        {
          "data": {
            "text/plain": [
              "{'Tara': 1, 'Mihai': 1, 'Patric': 1, 'Cezar': 1, 'Andrei': 1}"
            ]
          },
          "execution_count": 125,
          "metadata": {},
          "output_type": "execute_result"
        }
      ],
      "source": [
        "names_dict"
      ]
    },
    {
      "cell_type": "markdown",
      "metadata": {},
      "source": [
        "## Part 10. Classes"
      ]
    },
    {
      "cell_type": "markdown",
      "metadata": {},
      "source": [
        "### Example with points."
      ]
    },
    {
      "cell_type": "code",
      "execution_count": 5,
      "metadata": {},
      "outputs": [],
      "source": [
        "class Point:\n",
        "    def __init__(self, x, y):\n",
        "        self.x = x\n",
        "        self.y = y\n",
        "        \n",
        "    def printy(self):\n",
        "        print(f\"Point:({self.x},{self.y})\")"
      ]
    },
    {
      "cell_type": "code",
      "execution_count": 7,
      "metadata": {},
      "outputs": [
        {
          "name": "stdout",
          "output_type": "stream",
          "text": [
            "Point:(0,0)\n",
            "Point:(2,2)\n"
          ]
        }
      ],
      "source": [
        "p1 = Point(0, 0)\n",
        "p2 = Point(2, 2)\n",
        "p1.printy()\n",
        "p2.printy()"
      ]
    },
    {
      "cell_type": "markdown",
      "metadata": {},
      "source": [
        "### Example with dogs."
      ]
    },
    {
      "cell_type": "code",
      "execution_count": 8,
      "metadata": {
        "id": "57YXxZMQH20H"
      },
      "outputs": [],
      "source": [
        "class Dog:\n",
        "    def __init__(self, name, rasa, age):\n",
        "        self.name = name\n",
        "        self.rasa = rasa\n",
        "        self.age = age\n",
        "\n",
        "    def bark(self):\n",
        "        print(f\"WOOF {self.name}\")\n",
        "\n",
        "    def walk(self):\n",
        "        print(f\"{self.name} is walking...!\")\n",
        "\n",
        "    def snacks(self, no_snacks):\n",
        "        print(f\"{self.name} is eating {no_snacks} snacks!\")"
      ]
    },
    {
      "cell_type": "code",
      "execution_count": 9,
      "metadata": {
        "id": "PNwUn8R6ICXY"
      },
      "outputs": [],
      "source": [
        "dog1 = Dog(\"Rex\", \"Bulldog\", 5)\n",
        "dog2 = Dog(\"Max\", \"Bishon\", 2)"
      ]
    },
    {
      "cell_type": "code",
      "execution_count": 10,
      "metadata": {
        "colab": {
          "base_uri": "https://localhost:8080/"
        },
        "id": "G9joZ-AdIXEA",
        "outputId": "35a4bf53-e595-4d32-c45f-e9b80cd5084a"
      },
      "outputs": [
        {
          "name": "stdout",
          "output_type": "stream",
          "text": [
            "WOOF Rex\n"
          ]
        }
      ],
      "source": [
        "dog1.bark()"
      ]
    },
    {
      "cell_type": "code",
      "execution_count": 11,
      "metadata": {
        "colab": {
          "base_uri": "https://localhost:8080/"
        },
        "id": "EZgnVM1TIdjA",
        "outputId": "0c8fb16a-07c6-453e-9303-f950003f9db5"
      },
      "outputs": [
        {
          "name": "stdout",
          "output_type": "stream",
          "text": [
            "WOOF Max\n"
          ]
        }
      ],
      "source": [
        "dog2.bark()"
      ]
    },
    {
      "cell_type": "code",
      "execution_count": 12,
      "metadata": {
        "colab": {
          "base_uri": "https://localhost:8080/"
        },
        "id": "PKZjFYarIvx3",
        "outputId": "bf4cc28d-14e8-4f3d-ab6c-1ad6953646f6"
      },
      "outputs": [
        {
          "name": "stdout",
          "output_type": "stream",
          "text": [
            "Rex is walking...!\n"
          ]
        }
      ],
      "source": [
        "dog1.walk()"
      ]
    },
    {
      "cell_type": "code",
      "execution_count": null,
      "metadata": {
        "colab": {
          "base_uri": "https://localhost:8080/"
        },
        "id": "YZHN4KTOI-HO",
        "outputId": "129f61af-b7ec-41d1-86a6-9ec37507de01"
      },
      "outputs": [
        {
          "data": {
            "text/plain": [
              "('Rex', 5, 'Bulldog')"
            ]
          },
          "execution_count": 107,
          "metadata": {},
          "output_type": "execute_result"
        }
      ],
      "source": [
        "dog1.name, dog1.age, dog1.rasa"
      ]
    },
    {
      "cell_type": "code",
      "execution_count": null,
      "metadata": {
        "colab": {
          "base_uri": "https://localhost:8080/"
        },
        "id": "xL64MYVTJJPg",
        "outputId": "cd12528e-3e0f-408b-84dc-51070bcc8bbd"
      },
      "outputs": [
        {
          "name": "stdout",
          "output_type": "stream",
          "text": [
            "Rex is eating 5 snacks!\n"
          ]
        }
      ],
      "source": [
        "dog1.snacks(5)"
      ]
    },
    {
      "cell_type": "markdown",
      "metadata": {},
      "source": [
        "#### TODO\n",
        "Write a class for rectangle with methods areas and\n",
        "perimeters. The attributes will be width and height."
      ]
    }
  ],
  "metadata": {
    "colab": {
      "collapsed_sections": [
        "z7ADfLWRsHF0",
        "Z1hcRROqsRtp"
      ],
      "provenance": []
    },
    "kernelspec": {
      "display_name": "ml11",
      "language": "python",
      "name": "python3"
    },
    "language_info": {
      "codemirror_mode": {
        "name": "ipython",
        "version": 3
      },
      "file_extension": ".py",
      "mimetype": "text/x-python",
      "name": "python",
      "nbconvert_exporter": "python",
      "pygments_lexer": "ipython3",
      "version": "3.11.8"
    }
  },
  "nbformat": 4,
  "nbformat_minor": 0
}
